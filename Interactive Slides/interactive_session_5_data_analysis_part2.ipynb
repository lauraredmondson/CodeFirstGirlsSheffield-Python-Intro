{
 "cells": [
  {
   "cell_type": "markdown",
   "metadata": {
    "slideshow": {
     "slide_type": "slide"
    }
   },
   "source": [
    "![Code First: Girls](images/logo_large.png)\n",
    "\n",
    "#### Python Session 6"
   ]
  },
  {
   "cell_type": "markdown",
   "metadata": {
    "slideshow": {
     "slide_type": "slide"
    }
   },
   "source": [
    "# Part 2: Introduction to numpy & more matplotlib"
   ]
  },
  {
   "cell_type": "markdown",
   "metadata": {
    "slideshow": {
     "slide_type": "slide"
    }
   },
   "source": [
    "Download files from google drive:\n",
    "‘book_analysis_code.py’ and ‘book_dataset.csv’\n",
    "\n",
    "All work will be done in the ‘book_analysis_code.py’ file."
   ]
  },
  {
   "cell_type": "markdown",
   "metadata": {
    "slideshow": {
     "slide_type": "slide"
    }
   },
   "source": [
    "### What are numpy arrays?"
   ]
  },
  {
   "cell_type": "markdown",
   "metadata": {},
   "source": [
    "Numpy arrays are often faster than lists for doing mathematical operations. \n",
    "It is easy to perform addition, subtraction, multiplication, divisions and more complex mathematical operations using numpy arrays."
   ]
  },
  {
   "cell_type": "markdown",
   "metadata": {
    "slideshow": {
     "slide_type": "subslide"
    }
   },
   "source": [
    "#### Our first numpy array"
   ]
  },
  {
   "cell_type": "code",
   "execution_count": 15,
   "metadata": {
    "slideshow": {
     "slide_type": "-"
    }
   },
   "outputs": [
    {
     "name": "stdout",
     "output_type": "stream",
     "text": [
      "[1 2 3]\n"
     ]
    }
   ],
   "source": [
    "import numpy as np # np can be used as a shorthand\n",
    "\n",
    "my_first_array = np.array((1, 2, 3))\n",
    "\n",
    "print(my_first_array)"
   ]
  },
  {
   "cell_type": "markdown",
   "metadata": {
    "slideshow": {
     "slide_type": "slide"
    }
   },
   "source": [
    "Numpy arrays can be used to perform mathematical operations"
   ]
  },
  {
   "cell_type": "code",
   "execution_count": 16,
   "metadata": {},
   "outputs": [
    {
     "name": "stdout",
     "output_type": "stream",
     "text": [
      "[1 2 3]\n"
     ]
    }
   ],
   "source": [
    "array_one = np.array((1, 2, 3))\n",
    "\n",
    "print(array_one)"
   ]
  },
  {
   "cell_type": "markdown",
   "metadata": {
    "slideshow": {
     "slide_type": "-"
    }
   },
   "source": [
    "Add 5 to each number in the array"
   ]
  },
  {
   "cell_type": "code",
   "execution_count": 17,
   "metadata": {},
   "outputs": [
    {
     "name": "stdout",
     "output_type": "stream",
     "text": [
      "[6 7 8]\n"
     ]
    }
   ],
   "source": [
    "array_one += 5 # This means: array_one = array_one + 5\n",
    "\n",
    "print(array_one)"
   ]
  },
  {
   "cell_type": "markdown",
   "metadata": {
    "slideshow": {
     "slide_type": "subslide"
    }
   },
   "source": [
    "Multiply each number in the array by 10"
   ]
  },
  {
   "cell_type": "code",
   "execution_count": 18,
   "metadata": {},
   "outputs": [
    {
     "name": "stdout",
     "output_type": "stream",
     "text": [
      "[60 70 80]\n"
     ]
    }
   ],
   "source": [
    "array_one *= 10 # This means: array_one = array_one * 10\n",
    "\n",
    "print(array_one)"
   ]
  },
  {
   "cell_type": "markdown",
   "metadata": {
    "slideshow": {
     "slide_type": "subslide"
    }
   },
   "source": [
    "##### They can be indexed just like lists"
   ]
  },
  {
   "cell_type": "code",
   "execution_count": 19,
   "metadata": {},
   "outputs": [
    {
     "name": "stdout",
     "output_type": "stream",
     "text": [
      "9\n",
      "3\n",
      "[9 4]\n"
     ]
    }
   ],
   "source": [
    "array_one = np.array((9, 4, 3))\n",
    "\n",
    "# First element\n",
    "print(array_one[0])\n",
    "\n",
    "\n",
    "# Last element\n",
    "print(array_one[-1])\n",
    "\n",
    "\n",
    "# Get first two elements\n",
    "print(array_one[: 2])\n"
   ]
  },
  {
   "cell_type": "markdown",
   "metadata": {
    "slideshow": {
     "slide_type": "subslide"
    }
   },
   "source": [
    "You can also make arrays of ones:"
   ]
  },
  {
   "cell_type": "code",
   "execution_count": 20,
   "metadata": {},
   "outputs": [
    {
     "name": "stdout",
     "output_type": "stream",
     "text": [
      "[1. 1. 1. 1. 1. 1. 1. 1. 1. 1.]\n"
     ]
    }
   ],
   "source": [
    "ones_array = np.ones(10)\n",
    "\n",
    "print(ones_array)"
   ]
  },
  {
   "cell_type": "markdown",
   "metadata": {},
   "source": [
    "And zeros:"
   ]
  },
  {
   "cell_type": "code",
   "execution_count": 21,
   "metadata": {},
   "outputs": [
    {
     "name": "stdout",
     "output_type": "stream",
     "text": [
      "[0. 0. 0. 0. 0. 0. 0. 0. 0. 0.]\n"
     ]
    }
   ],
   "source": [
    "zeros_array = np.zeros(10)\n",
    "\n",
    "print(zeros_array)"
   ]
  },
  {
   "cell_type": "markdown",
   "metadata": {
    "slideshow": {
     "slide_type": "subslide"
    }
   },
   "source": [
    "You can perform lots of functions with them"
   ]
  },
  {
   "cell_type": "markdown",
   "metadata": {},
   "source": [
    "Such as finding the sum:"
   ]
  },
  {
   "cell_type": "code",
   "execution_count": 22,
   "metadata": {},
   "outputs": [
    {
     "name": "stdout",
     "output_type": "stream",
     "text": [
      "6\n"
     ]
    }
   ],
   "source": [
    "array_one = np.array((1, 2, 3))\n",
    "\n",
    "array_sum = np.sum(array_one)\n",
    "print(array_sum)"
   ]
  },
  {
   "cell_type": "markdown",
   "metadata": {
    "slideshow": {
     "slide_type": "subslide"
    }
   },
   "source": [
    "Or the mean:"
   ]
  },
  {
   "cell_type": "code",
   "execution_count": 23,
   "metadata": {},
   "outputs": [
    {
     "name": "stdout",
     "output_type": "stream",
     "text": [
      "2.0\n"
     ]
    }
   ],
   "source": [
    "array_one = np.array((1, 2, 3))\n",
    "\n",
    "array_mean = np.mean(array_one)\n",
    "print(array_mean)"
   ]
  },
  {
   "cell_type": "markdown",
   "metadata": {
    "slideshow": {
     "slide_type": "subslide"
    }
   },
   "source": [
    "You can easily peform operations on multiple lists, such as adding them together:"
   ]
  },
  {
   "cell_type": "code",
   "execution_count": 24,
   "metadata": {},
   "outputs": [
    {
     "name": "stdout",
     "output_type": "stream",
     "text": [
      "[ 2  8 11]\n"
     ]
    }
   ],
   "source": [
    "array_one = np.array((1, 2, 3))\n",
    "\n",
    "array_two = np.array((1, 6, 8))\n",
    "\n",
    "add_array = array_one + array_two\n",
    "print(add_array)"
   ]
  },
  {
   "cell_type": "markdown",
   "metadata": {
    "slideshow": {
     "slide_type": "subslide"
    }
   },
   "source": [
    "Or multiplying them:"
   ]
  },
  {
   "cell_type": "code",
   "execution_count": 25,
   "metadata": {},
   "outputs": [
    {
     "name": "stdout",
     "output_type": "stream",
     "text": [
      "[ 1 12 24]\n"
     ]
    }
   ],
   "source": [
    "array_one = np.array((1, 2, 3))\n",
    "\n",
    "array_two = np.array((1, 6, 8))\n",
    "\n",
    "multiply_array = array_one*array_two\n",
    "print(multiply_array)"
   ]
  },
  {
   "cell_type": "markdown",
   "metadata": {
    "slideshow": {
     "slide_type": "slide"
    }
   },
   "source": [
    "#### Back to our data: How do we calculate the value of our current stock?\n",
    "\n",
    "- Multiply the number of copies of each book by price of the book:\n",
    "\n",
    "Calculate Num_copies_stock * Price for each book."
   ]
  },
  {
   "cell_type": "markdown",
   "metadata": {},
   "source": [
    "![Code First: Girls](images/data_pic/book_dataset.png)"
   ]
  },
  {
   "cell_type": "markdown",
   "metadata": {
    "slideshow": {
     "slide_type": "subslide"
    }
   },
   "source": [
    "What is one way of solving this?\n",
    "\n",
    "1. Extract array of Num_copies_stock\n",
    "1. Extract array of prices\n",
    "1. Multiply the arrays Num_copies_stock and prices together\n",
    "1. Sum the result to find the total stock value"
   ]
  },
  {
   "cell_type": "markdown",
   "metadata": {
    "slideshow": {
     "slide_type": "subslide"
    }
   },
   "source": [
    "#### Extracting number of copies of each book"
   ]
  },
  {
   "cell_type": "code",
   "execution_count": 68,
   "metadata": {},
   "outputs": [
    {
     "name": "stdout",
     "output_type": "stream",
     "text": [
      "[ 3.  2.  3.  3.  7.  3. 18. 22. 12.  2.  5.  8.  5.  4.  4.  8.  2.  3.\n",
      "  2.  1. 15.  7.  1.  6.]\n"
     ]
    }
   ],
   "source": [
    "num_stock = np.array(()) # create an empty array\n",
    "\n",
    "for book in book_data:\n",
    "    num_stock = np.append(num_stock,int(book['Num_copies_stock'])) # remember to convert to integer\n",
    "    \n",
    "print(num_stock)"
   ]
  },
  {
   "cell_type": "markdown",
   "metadata": {
    "slideshow": {
     "slide_type": "subslide"
    }
   },
   "source": [
    "**Exercise:** Complete the task of calculating the value of our stock:\n",
    "\n",
    "1. Extract array of num_stock \n",
    "1. Extract array of prices\n",
    "1. Multiply the arrays num_stock and prices together\n",
    "1. Sum the result to find the total stock value\n",
    "1. Print the stock value"
   ]
  },
  {
   "cell_type": "markdown",
   "metadata": {
    "slideshow": {
     "slide_type": "subslide"
    }
   },
   "source": [
    "Solution"
   ]
  },
  {
   "cell_type": "code",
   "execution_count": 75,
   "metadata": {},
   "outputs": [
    {
     "name": "stdout",
     "output_type": "stream",
     "text": [
      "Num stock:  [ 3.  2.  3.  3.  7.  3. 18. 22. 12.  2.  5.  8.  5.  4.  4.  8.  2.  3.\n",
      "  2.  1. 15.  7.  1.  6.]\n",
      "Stock prices:  [6.32 3.45 3.73 6.78 5.5  4.75 6.27 6.23 5.21 1.99 3.67 5.99 2.99 4.99\n",
      " 1.98 3.99 5.17 2.45 6.8  3.14 4.92 5.27 2.93 5.37]\n",
      "The value of the stock is £747.85\n"
     ]
    }
   ],
   "source": [
    "num_stock = np.array(())  # Create empty array for number of copies\n",
    "stock_price = np.array(()) # Create empty array for stock prices\n",
    "\n",
    "for book in book_data:\n",
    "    num_stock = np.append(num_stock,int(book['Num_copies_stock'])) # remember to convert to integer\n",
    "    stock_price = np.append(stock_price,float(book['Price'])) # remember to use 'float' as prices have decimals\n",
    "\n",
    "print('Num stock: ', num_stock)\n",
    "print('Stock prices: ', stock_price)\n",
    "\n",
    "stock_value = np.sum(num_stock*stock_price) # Calculate the stock value\n",
    "\n",
    "print('The value of the stock is £{}'.format(stock_value))"
   ]
  },
  {
   "cell_type": "markdown",
   "metadata": {
    "slideshow": {
     "slide_type": "slide"
    }
   },
   "source": [
    "#### Next Question: How much revenue did we make each month?\n",
    "Calculate price * copies sold for each month per book.\n",
    "\n",
    "Sum up the total revenue per month. "
   ]
  },
  {
   "cell_type": "markdown",
   "metadata": {},
   "source": [
    "![Code First: Girls](images/data_pic/book_dataset.png)"
   ]
  },
  {
   "cell_type": "markdown",
   "metadata": {
    "slideshow": {
     "slide_type": "subslide"
    }
   },
   "source": [
    "#### Method one: Extract all the arrays, then do the calculation"
   ]
  },
  {
   "cell_type": "code",
   "execution_count": 76,
   "metadata": {},
   "outputs": [
    {
     "name": "stdout",
     "output_type": "stream",
     "text": [
      "2405.55\n",
      "1201.48\n",
      "1912.6\n"
     ]
    }
   ],
   "source": [
    "stock_price = np.array(()) \n",
    "jan_sales = np.array(())\n",
    "feb_sales = np.array(())\n",
    "march_sales = np.array(())\n",
    "\n",
    "for book in book_data:\n",
    "    stock_price = np.append(stock_price,float(book['Price']))\n",
    "    jan_sales = np.append(jan_sales,int(book['Jan']))\n",
    "    feb_sales = np.append(feb_sales,int(book['Feb']))    \n",
    "    march_sales = np.append(march_sales,int(book['March']))   \n",
    "\n",
    "jan_rev = np.sum(jan_sales*stock_price)\n",
    "print(jan_rev)\n",
    "\n",
    "feb_rev = np.sum(feb_sales*stock_price)\n",
    "print(feb_rev)\n",
    "\n",
    "march_rev = np.sum(march_sales*stock_price)\n",
    "print(march_rev)"
   ]
  },
  {
   "cell_type": "markdown",
   "metadata": {},
   "source": [
    "Problem: Lots of repetition"
   ]
  },
  {
   "cell_type": "markdown",
   "metadata": {
    "slideshow": {
     "slide_type": "subslide"
    }
   },
   "source": [
    "#### Method two: Calculate all the sales in the loop"
   ]
  },
  {
   "cell_type": "code",
   "execution_count": 82,
   "metadata": {},
   "outputs": [
    {
     "name": "stdout",
     "output_type": "stream",
     "text": [
      "2405.55\n",
      "1201.48\n",
      "1912.6\n"
     ]
    }
   ],
   "source": [
    "jan_sales = np.array(())\n",
    "feb_sales = np.array(())\n",
    "march_sales = np.array(())\n",
    "\n",
    "for book in book_data:\n",
    "    jan_sales = np.append(jan_sales, float(book['Price']) * int(book['Jan']))\n",
    "    feb_sales = np.append(feb_sales, float(book['Price']) * int(book['Feb']))\n",
    "    march_sales = np.append(march_sales, float(book['Price']) * int(book['March']))   \n",
    "\n",
    "jan_rev = np.sum(jan_sales)\n",
    "feb_rev = np.sum(feb_sales)\n",
    "march_rev = np.sum(march_sales)\n",
    "\n",
    "print(jan_rev)\n",
    "print(feb_rev)\n",
    "print(march_rev)"
   ]
  },
  {
   "cell_type": "markdown",
   "metadata": {},
   "source": [
    "Problem: Still lots of repetition"
   ]
  },
  {
   "cell_type": "markdown",
   "metadata": {
    "slideshow": {
     "slide_type": "subslide"
    }
   },
   "source": [
    "#### Method three: One for-loop"
   ]
  },
  {
   "cell_type": "code",
   "execution_count": 40,
   "metadata": {},
   "outputs": [
    {
     "name": "stdout",
     "output_type": "stream",
     "text": [
      "[2405.55 1201.48 1912.6   847.54 1198.12 1650.62]\n"
     ]
    }
   ],
   "source": [
    "revenue_months = np.zeros(6) # Pre-allocate an empty array to store the data\n",
    "\n",
    "for book in book_data:\n",
    "    revenue_months[0] += float(book['Price']) * int(book['Jan'])\n",
    "    revenue_months[1] += float(book['Price']) * int(book['Feb'])\n",
    "    revenue_months[2] += float(book['Price']) * int(book['March'])\n",
    "    revenue_months[3] += float(book['Price']) * int(book['April'])\n",
    "    revenue_months[4] += float(book['Price']) * int(book['May'])\n",
    "    revenue_months[5] += float(book['Price']) * int(book['Jun'])\n",
    "    \n",
    "print(revenue_months)"
   ]
  },
  {
   "cell_type": "markdown",
   "metadata": {},
   "source": [
    "Much better! But: Is there a way to remove the repetition in the loop?"
   ]
  },
  {
   "cell_type": "markdown",
   "metadata": {
    "slideshow": {
     "slide_type": "subslide"
    }
   },
   "source": [
    "#### Another solution: Use a nested for-loop\n",
    "Nested for-loops are for-loops within another for-loop."
   ]
  },
  {
   "cell_type": "code",
   "execution_count": 47,
   "metadata": {},
   "outputs": [
    {
     "name": "stdout",
     "output_type": "stream",
     "text": [
      "['Jan', 'Feb', 'March', 'April', 'May', 'Jun']\n",
      "[2405.55 1201.48 1912.6   847.54 1198.12 1650.62]\n"
     ]
    }
   ],
   "source": [
    "revenue_months = np.zeros(6)\n",
    "\n",
    "months = headers[4:] # create list with month names in from the .csv headers\n",
    "print(months)\n",
    "\n",
    "for book in book_data:\n",
    "    for index in range(len(months)):\n",
    "        revenue_months[index] += float(book['Price']) * int(book[months[index]])\n",
    "        \n",
    "print(revenue_months)"
   ]
  },
  {
   "cell_type": "markdown",
   "metadata": {
    "slideshow": {
     "slide_type": "subslide"
    }
   },
   "source": [
    "What is going on here?"
   ]
  },
  {
   "cell_type": "code",
   "execution_count": null,
   "metadata": {},
   "outputs": [],
   "source": [
    "revenue_months = np.zeros(6)\n",
    "\n",
    "print(revenue_months)\n",
    "\n",
    "for book in book_data:\n",
    "    \n",
    "    for index in range(len(months)):\n",
    "        \n",
    "        print('Loop: ' + str(index))\n",
    "        \n",
    "        revenue_months[index] += float(book['Price']) * int(book[months[index]])\n",
    "        print(revenue_months)\n",
    "        \n",
    "   # break"
   ]
  },
  {
   "cell_type": "markdown",
   "metadata": {},
   "source": [
    "![Code First: Girls](images/data_pic/book_dataset.png)"
   ]
  },
  {
   "cell_type": "code",
   "execution_count": 48,
   "metadata": {
    "slideshow": {
     "slide_type": "slide"
    }
   },
   "outputs": [
    {
     "data": {
      "image/png": "[encoded data removed]",
      "text/plain": [
       "<Figure size 432x288 with 1 Axes>"
      ]
     },
     "metadata": {
      "needs_background": "light"
     },
     "output_type": "display_data"
    }
   ],
   "source": [
    "plt.figure()\n",
    "plt.plot(months, revenue_months)\n",
    "plt.ylabel('Revenue (£)')\n",
    "plt.xlabel('Month')\n",
    "plt.title('Book sales revenue per month')\n",
    "plt.savefig('Book_sales.png')\n",
    "plt.show()"
   ]
  },
  {
   "cell_type": "code",
   "execution_count": null,
   "metadata": {},
   "outputs": [],
   "source": []
  },
  {
   "cell_type": "markdown",
   "metadata": {
    "slideshow": {
     "slide_type": "slide"
    }
   },
   "source": [
    "**Final exercise:** Calculate how much money we made from selling Children's books each month\n",
    "\n",
    "Extension: Plot the result using a suitable chart with matplotlib."
   ]
  },
  {
   "cell_type": "markdown",
   "metadata": {
    "slideshow": {
     "slide_type": "subslide"
    }
   },
   "source": [
    "Solution"
   ]
  },
  {
   "cell_type": "code",
   "execution_count": 53,
   "metadata": {},
   "outputs": [
    {
     "name": "stdout",
     "output_type": "stream",
     "text": [
      "['Jan', 'Feb', 'March', 'April', 'May', 'Jun']\n",
      "[477.45 337.54 403.61 216.92 277.08 398.02]\n"
     ]
    }
   ],
   "source": [
    "revenue_months_children = np.zeros(6)\n",
    "\n",
    "months = headers[4:] # create list with month names in from the .csv headers\n",
    "print(months)\n",
    "\n",
    "for book in book_data:\n",
    "    for index in range(len(months)):\n",
    "        if book['Genre'] == 'Children':\n",
    "            revenue_months_children[index] += float(book['Price']) * int(book[months[index]])\n",
    "        \n",
    "print(revenue_months_children)"
   ]
  },
  {
   "cell_type": "markdown",
   "metadata": {
    "slideshow": {
     "slide_type": "slide"
    }
   },
   "source": [
    "Extension solution"
   ]
  },
  {
   "cell_type": "code",
   "execution_count": 54,
   "metadata": {
    "slideshow": {
     "slide_type": "-"
    }
   },
   "outputs": [
    {
     "data": {
      "image/png": "[encoded data removed]",
      "text/plain": [
       "<Figure size 432x288 with 1 Axes>"
      ]
     },
     "metadata": {
      "needs_background": "light"
     },
     "output_type": "display_data"
    }
   ],
   "source": [
    "plt.figure()\n",
    "plt.plot(months, revenue_months_children)\n",
    "plt.ylabel('Revenue (£)')\n",
    "plt.xlabel('Month')\n",
    "plt.title('Childrens book sales revenue per month')\n",
    "plt.savefig('Childrens_Book_sales.png')\n",
    "plt.show()"
   ]
  }
 ],
 "metadata": {
  "celltoolbar": "Slideshow",
  "kernelspec": {
   "display_name": "Python 3",
   "language": "python",
   "name": "python3"
  },
  "language_info": {
   "codemirror_mode": {
    "name": "ipython",
    "version": 3
   },
   "file_extension": ".py",
   "mimetype": "text/x-python",
   "name": "python",
   "nbconvert_exporter": "python",
   "pygments_lexer": "ipython3",
   "version": "3.7.3"
  },
  "livereveal": {
   "footer": "<img src=\"images/logo.png\" style=\"margin-left: 20px; margin-bottom: 20px;\"/>",
   "progress": true,
   "scroll": true,
   "start_slideshow_at": "selected"
  },
  "rise": {
   "enable_chalkboard": true
  }
 },
 "nbformat": 4,
 "nbformat_minor": 2
}
