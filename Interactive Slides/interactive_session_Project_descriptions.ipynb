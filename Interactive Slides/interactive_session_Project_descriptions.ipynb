{
 "cells": [
  {
   "cell_type": "code",
   "execution_count": 1,
   "metadata": {},
   "outputs": [
    {
     "data": {
      "text/html": [
       "<style>\n",
       "td {\n",
       "  font-size: 30px\n",
       "}\n",
       "</style>\n"
      ],
      "text/plain": [
       "<IPython.core.display.HTML object>"
      ]
     },
     "metadata": {},
     "output_type": "display_data"
    }
   ],
   "source": [
    "%%HTML\n",
    "<style>\n",
    "td {\n",
    "  font-size: 30px\n",
    "}\n",
    "</style>"
   ]
  },
  {
   "cell_type": "markdown",
   "metadata": {
    "slideshow": {
     "slide_type": "slide"
    }
   },
   "source": [
    "![Code First: Girls](images/logo_large.png)\n",
    "\n",
    "#### Python Projects"
   ]
  },
  {
   "cell_type": "markdown",
   "metadata": {
    "slideshow": {
     "slide_type": "slide"
    }
   },
   "source": [
    "### Available Projects"
   ]
  },
  {
   "cell_type": "markdown",
   "metadata": {
    "slideshow": {
     "slide_type": "-"
    }
   },
   "source": [
    "Two types of project are available:\n",
    "1. API projects\n",
    "1. Data analysis projects\n"
   ]
  },
  {
   "cell_type": "markdown",
   "metadata": {
    "slideshow": {
     "slide_type": "slide"
    }
   },
   "source": [
    "### API Projects"
   ]
  },
  {
   "cell_type": "markdown",
   "metadata": {},
   "source": [
    "- Top Trumps Game\n",
    "\n",
    "- Cryptocurrency Converter\n",
    "\n",
    "- Recipe Generator"
   ]
  },
  {
   "cell_type": "markdown",
   "metadata": {
    "slideshow": {
     "slide_type": "subslide"
    }
   },
   "source": [
    "#### Top Trumps Game"
   ]
  },
  {
   "cell_type": "markdown",
   "metadata": {},
   "source": [
    "<table><tr><td>\n",
    "<img src=\"images/projects/toptrumps.png\" width=\"400\">\n",
    "</td><td>\n",
    "    \n",
    "Create a Game based on Top Trumps. \n",
    "\n",
    "There are a few APIs to do this eg. Pokemon and Star Wars.\n",
    "\n",
    "</td></tr></table>"
   ]
  },
  {
   "cell_type": "markdown",
   "metadata": {
    "slideshow": {
     "slide_type": "subslide"
    }
   },
   "source": [
    "#### Cryptocurrency Converter"
   ]
  },
  {
   "cell_type": "markdown",
   "metadata": {},
   "source": [
    "<table><tr><td>\n",
    "<img src=\"images/projects/Bitcoin.png\" width=\"1000\">\n",
    "</td><td>\n",
    "    \n",
    "In this project you will create a CryptoCurrency Converter. \n",
    "\n",
    "The program will ask the user which coins and how many coins they have, and will then return the value of the coins in US dollars.\n",
    "\n",
    "You can investigate different cryptocurrencies (such as Bitcoin, Litecoin, and many more) and analyse data on the coins (such as current prices, total numbers of coins circulation).\n",
    "\n",
    "</td></tr></table>"
   ]
  },
  {
   "cell_type": "markdown",
   "metadata": {
    "slideshow": {
     "slide_type": "subslide"
    }
   },
   "source": [
    "#### Recipe Generator"
   ]
  },
  {
   "cell_type": "markdown",
   "metadata": {},
   "source": [
    "<table><tr><td>\n",
    "<img src=\"images/projects/recipe.png\" width=\"1300\">\n",
    "</td><td>\n",
    "    \n",
    "In this project you'll create a program to search for recipes based on an ingredient. The standard project uses the Edamam API. \n",
    "\n",
    "The program will ask the user which ingredients they have, and will return recipes using these ingredients.\n",
    "\n",
    "</td></tr></table>"
   ]
  },
  {
   "cell_type": "markdown",
   "metadata": {
    "slideshow": {
     "slide_type": "slide"
    }
   },
   "source": [
    "### Data Analysis Projects"
   ]
  },
  {
   "cell_type": "markdown",
   "metadata": {},
   "source": [
    "- IMDb movie data\n",
    "\n",
    "- Crime data: London 2019 or San Francisco\n",
    "\n",
    "- University Rankings data\n",
    "\n",
    "- World Food Production 2018 data\n",
    "\n",
    "- World Happiness data"
   ]
  },
  {
   "cell_type": "markdown",
   "metadata": {
    "slideshow": {
     "slide_type": "subslide"
    }
   },
   "source": [
    "#### IMDb movie data"
   ]
  },
  {
   "cell_type": "markdown",
   "metadata": {},
   "source": [
    "<table><tr><td>\n",
    "<img src=\"images/projects/imdb.png\" width=\"1300\">\n",
    "</td><td>\n",
    "    \n",
    "This dataset contains a list of English language movies with ratings from IMDb, and financial information such as box office grossing and budgets.\n",
    "\n",
    "</td></tr></table>"
   ]
  },
  {
   "cell_type": "markdown",
   "metadata": {
    "slideshow": {
     "slide_type": "subslide"
    }
   },
   "source": [
    "#### Crime data"
   ]
  },
  {
   "cell_type": "markdown",
   "metadata": {},
   "source": [
    "<table><tr><td>\n",
    "<img src=\"images/projects/london.png\" width=\"1300\">\n",
    "</td><td>\n",
    "    \n",
    "Choice of two datasets:\n",
    "\n",
    "- London Resolved Crime December 2019 \n",
    "\n",
    "- San Francisco crime 2018\n",
    "\n",
    "In this project you will analyse crime data to identify the most common crimes, where they occur, and what the typical outcomes are.\n",
    "\n",
    "</td></tr></table>"
   ]
  },
  {
   "cell_type": "markdown",
   "metadata": {
    "slideshow": {
     "slide_type": "subslide"
    }
   },
   "source": [
    "#### University Rankings data"
   ]
  },
  {
   "cell_type": "markdown",
   "metadata": {},
   "source": [
    "<table><tr><td>\n",
    "<img src=\"images/projects/university.png\" width=\"1300\">\n",
    "</td><td>\n",
    "    \n",
    "This project used QS University World Ranking data to investigate different aspects of the scoring system. \n",
    "\n",
    "The dataset contains scores for different measures eg. teaching, research, staff and students.\n",
    "\n",
    "</td></tr></table>\n"
   ]
  },
  {
   "cell_type": "markdown",
   "metadata": {
    "slideshow": {
     "slide_type": "subslide"
    }
   },
   "source": [
    "#### World Food Production UN 2018 data"
   ]
  },
  {
   "cell_type": "markdown",
   "metadata": {},
   "source": [
    "<table><tr><td>\n",
    "<img src=\"images/projects/crops.png\" width=\"1300\">\n",
    "</td><td>\n",
    "    \n",
    "This project will analyse food production for a variety of produce eg. fruits, vegetables, for different countries. You will investigate which countries are the top producers for each type of crop, and whether this varies between regions.\n",
    "\n",
    "</td></tr></table>"
   ]
  },
  {
   "cell_type": "markdown",
   "metadata": {
    "slideshow": {
     "slide_type": "subslide"
    }
   },
   "source": [
    "#### World Happiness rankings 2016-2016 data"
   ]
  },
  {
   "cell_type": "markdown",
   "metadata": {},
   "source": [
    "<table><tr><td>\n",
    "<img src=\"images/projects/happiness.png\" width=\"1300\">\n",
    "</td><td>\n",
    "    \n",
    "This project will investigate world happiness rankings from 2015 and 2016. The dataset contains scores for each happiness indicator (eg. economy, family), and an overall ranking.\n",
    "\n",
    "You will compare the scores of different countries, and changes from 2015 to 2016.\n",
    "\n",
    "</td></tr></table>"
   ]
  },
  {
   "cell_type": "markdown",
   "metadata": {
    "slideshow": {
     "slide_type": "slide"
    }
   },
   "source": [
    "**Before Next Week's session**"
   ]
  },
  {
   "cell_type": "markdown",
   "metadata": {
    "slideshow": {
     "slide_type": "-"
    }
   },
   "source": [
    "Complete the project choice google form on the mini site."
   ]
  }
 ],
 "metadata": {
  "celltoolbar": "Slideshow",
  "kernelspec": {
   "display_name": "Python 3",
   "language": "python",
   "name": "python3"
  },
  "language_info": {
   "codemirror_mode": {
    "name": "ipython",
    "version": 3
   },
   "file_extension": ".py",
   "mimetype": "text/x-python",
   "name": "python",
   "nbconvert_exporter": "python",
   "pygments_lexer": "ipython3",
   "version": "3.7.3"
  },
  "livereveal": {
   "footer": "<img src=\"images/logo.png\" style=\"margin-left: 20px; margin-bottom: 20px;\"/>",
   "progress": true,
   "scroll": true,
   "start_slideshow_at": "selected"
  },
  "rise": {
   "enable_chalkboard": true
  }
 },
 "nbformat": 4,
 "nbformat_minor": 2
}
