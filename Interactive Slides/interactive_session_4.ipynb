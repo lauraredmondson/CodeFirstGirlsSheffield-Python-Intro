{
 "cells": [
  {
   "cell_type": "markdown",
   "metadata": {
    "slideshow": {
     "slide_type": "slide"
    }
   },
   "source": [
    "**Starter:** There are four mistakes in this program. What are the mistakes and how would you fix them?"
   ]
  },
  {
   "cell_type": "code",
   "execution_count": 5,
   "metadata": {
    "slideshow": {
     "slide_type": "-"
    }
   },
   "outputs": [
    {
     "name": "stdout",
     "output_type": "stream",
     "text": [
      "How many carrots do you have? 6\n",
      "You have the right number of carrots\n"
     ]
    }
   ],
   "source": [
    "carrots = int(input('How many carrots do you have? '))\n",
    "rabbits = 6\n",
    "\n",
    "if rabbits > carrots:\n",
    "    print('There are not enough carrots')\n",
    "elif rabbits < carrots:\n",
    "    print('There are too many carrots')\n",
    "else:\n",
    "    print('You have the right number of carrots')"
   ]
  },
  {
   "cell_type": "markdown",
   "metadata": {
    "slideshow": {
     "slide_type": "slide"
    }
   },
   "source": [
    "![Code First: Girls](images/logo_large.png)\n",
    "\n",
    "#### Python Session 4"
   ]
  },
  {
   "cell_type": "markdown",
   "metadata": {
    "slideshow": {
     "slide_type": "subslide"
    }
   },
   "source": [
    "This session:\n",
    "1. Lists\n",
    "1. Dictionaries"
   ]
  },
  {
   "cell_type": "markdown",
   "metadata": {
    "slideshow": {
     "slide_type": "slide"
    }
   },
   "source": [
    "### Lists"
   ]
  },
  {
   "cell_type": "markdown",
   "metadata": {
    "slideshow": {
     "slide_type": "subslide"
    }
   },
   "source": [
    "**List:** an ordered collection of values"
   ]
  },
  {
   "cell_type": "markdown",
   "metadata": {
    "slideshow": {
     "slide_type": "subslide"
    }
   },
   "source": [
    "\n",
    "List are written inside square brackets and separated by commas\n",
    "\n",
    "A list of integers\n",
    "\n"
   ]
  },
  {
   "cell_type": "code",
   "execution_count": 6,
   "metadata": {},
   "outputs": [],
   "source": [
    "lottery_numbers = [4, 8, 15, 16, 23, 42]"
   ]
  },
  {
   "cell_type": "markdown",
   "metadata": {},
   "source": [
    "\n",
    "A list of strings\n",
    "\n"
   ]
  },
  {
   "cell_type": "code",
   "execution_count": null,
   "metadata": {},
   "outputs": [],
   "source": [
    "student_names = ['Diedre', 'Hank', 'Helena', 'Salome']"
   ]
  },
  {
   "cell_type": "markdown",
   "metadata": {
    "slideshow": {
     "slide_type": "subslide"
    }
   },
   "source": [
    "\n",
    "Lists can be made up of values of one or more data types\n",
    "\n"
   ]
  },
  {
   "cell_type": "code",
   "execution_count": null,
   "metadata": {},
   "outputs": [],
   "source": [
    "person = ['Jess', 32]"
   ]
  },
  {
   "cell_type": "markdown",
   "metadata": {
    "slideshow": {
     "slide_type": "subslide"
    }
   },
   "source": [
    "List values can be accessed using their **index** in square brackets\n",
    "\n"
   ]
  },
  {
   "cell_type": "code",
   "execution_count": 7,
   "metadata": {},
   "outputs": [
    {
     "name": "stdout",
     "output_type": "stream",
     "text": [
      "Helena\n"
     ]
    }
   ],
   "source": [
    "student_names = ['Diedre', 'Hank', 'Helena', 'Salome']\n",
    "\n",
    "print(student_names[2])"
   ]
  },
  {
   "cell_type": "markdown",
   "metadata": {
    "slideshow": {
     "slide_type": "subslide"
    }
   },
   "source": [
    "\n",
    "List indexes start counting from 0\n",
    "\n"
   ]
  },
  {
   "cell_type": "code",
   "execution_count": 8,
   "metadata": {},
   "outputs": [
    {
     "name": "stdout",
     "output_type": "stream",
     "text": [
      "Diedre\n"
     ]
    }
   ],
   "source": [
    "student_names = [\n",
    "    'Diedre',    # index 0\n",
    "    'Hank',      # index 1\n",
    "    'Helena',    # index 2\n",
    "    'Salome'     # index 3\n",
    "]\n",
    "\n",
    "print(student_names[0])"
   ]
  },
  {
   "cell_type": "markdown",
   "metadata": {
    "slideshow": {
     "slide_type": "subslide"
    }
   },
   "source": [
    "\n",
    "You can also set the values in lists using their indexes, similar to how you would set a variable\n",
    "\n"
   ]
  },
  {
   "cell_type": "code",
   "execution_count": 10,
   "metadata": {},
   "outputs": [
    {
     "name": "stdout",
     "output_type": "stream",
     "text": [
      "['Diedre', 'Joshua', 'Helena', 'Salome']\n"
     ]
    }
   ],
   "source": [
    "student_names = [\n",
    "    'Diedre',    # index 0\n",
    "    'Hank',      # index 1\n",
    "    'Helena',    # index 2\n",
    "    'Salome'     # index 3\n",
    "]\n",
    "\n",
    "student_names[1] = 'Joshua'\n",
    "print(student_names)"
   ]
  },
  {
   "cell_type": "markdown",
   "metadata": {
    "slideshow": {
     "slide_type": "subslide"
    }
   },
   "source": [
    "\n",
    "**Exercise 4.1:** When I'm travelling in the winter I often forget to pack warm clothes. Let's write a program to help me to remember the right clothes.\n",
    "\n",
    "The program should check if the first item in the `clothes` list is `\"shorts\"`. If it is it should change the value to `\"warm coat\"`.\n",
    "\n"
   ]
  },
  {
   "cell_type": "code",
   "execution_count": 12,
   "metadata": {},
   "outputs": [
    {
     "name": "stdout",
     "output_type": "stream",
     "text": [
      "['warm coat', 'shoes', 'jumper']\n"
     ]
    }
   ],
   "source": [
    "clothes = [\n",
    "    \"shorts\",\n",
    "    \"shoes\",\n",
    "    \"t-shirt\",\n",
    "]\n",
    "\n",
    "if clothes[0] == \"shorts\":\n",
    "    clothes[0] = \"warm coat\"\n",
    "    clothes[2] = \"jumper\"\n",
    "\n",
    "print(clothes)"
   ]
  },
  {
   "cell_type": "markdown",
   "metadata": {},
   "source": [
    "**Extension:** Change the other items in the list to clothing more appropriate to winter if the first item is `shorts`."
   ]
  },
  {
   "cell_type": "markdown",
   "metadata": {
    "slideshow": {
     "slide_type": "subslide"
    }
   },
   "source": [
    "\n",
    "Solution\n",
    "\n"
   ]
  },
  {
   "cell_type": "code",
   "execution_count": 14,
   "metadata": {},
   "outputs": [
    {
     "name": "stdout",
     "output_type": "stream",
     "text": [
      "['warm coat', 'shoes', 't-shirt']\n"
     ]
    }
   ],
   "source": [
    "clothes = [\n",
    "    \"shorts\",\n",
    "    \"shoes\",\n",
    "    \"t-shirt\",\n",
    "]\n",
    "\n",
    "if clothes[0] == 'shorts':\n",
    "    clothes[0] = 'warm coat'\n",
    "\n",
    "print(clothes)"
   ]
  },
  {
   "cell_type": "markdown",
   "metadata": {
    "slideshow": {
     "slide_type": "subslide"
    }
   },
   "source": [
    "#### More list indexing"
   ]
  },
  {
   "cell_type": "markdown",
   "metadata": {},
   "source": [
    "How can we get the last item from the list?"
   ]
  },
  {
   "cell_type": "code",
   "execution_count": 29,
   "metadata": {},
   "outputs": [
    {
     "name": "stdout",
     "output_type": "stream",
     "text": [
      "hat\n"
     ]
    }
   ],
   "source": [
    "clothes = [\"shorts\",\"shoes\",\"t-shirt\",\"dress\",\"hat\"]\n",
    "\n",
    "last_item = clothes[-1]\n",
    "\n",
    "print(last_item)"
   ]
  },
  {
   "cell_type": "markdown",
   "metadata": {
    "slideshow": {
     "slide_type": "subslide"
    }
   },
   "source": [
    "Get the first two items"
   ]
  },
  {
   "cell_type": "code",
   "execution_count": 30,
   "metadata": {},
   "outputs": [
    {
     "name": "stdout",
     "output_type": "stream",
     "text": [
      "['shorts', 'shoes']\n"
     ]
    }
   ],
   "source": [
    "clothes = [\"shorts\",\"shoes\",\"t-shirt\",\"dress\",\"hat\"]\n",
    "\n",
    "first_two_items = clothes[: 2]\n",
    "\n",
    "print(first_two_items)"
   ]
  },
  {
   "cell_type": "markdown",
   "metadata": {
    "slideshow": {
     "slide_type": "subslide"
    }
   },
   "source": [
    "Get middle two items"
   ]
  },
  {
   "cell_type": "code",
   "execution_count": 31,
   "metadata": {},
   "outputs": [
    {
     "name": "stdout",
     "output_type": "stream",
     "text": [
      "['t-shirt', 'dress']\n"
     ]
    }
   ],
   "source": [
    "clothes = [\"shorts\",\"shoes\",\"t-shirt\",\"dress\",\"hat\"]\n",
    "\n",
    "middle_items = clothes[2 : 4]\n",
    " \n",
    "print(middle_items)"
   ]
  },
  {
   "cell_type": "markdown",
   "metadata": {
    "slideshow": {
     "slide_type": "subslide"
    }
   },
   "source": [
    "Get last three items"
   ]
  },
  {
   "cell_type": "code",
   "execution_count": 32,
   "metadata": {
    "slideshow": {
     "slide_type": "-"
    }
   },
   "outputs": [
    {
     "name": "stdout",
     "output_type": "stream",
     "text": [
      "['t-shirt', 'dress', 'hat']\n"
     ]
    }
   ],
   "source": [
    "clothes = [\"shorts\",\"shoes\",\"t-shirt\",\"dress\",\"hat\"]\n",
    "\n",
    "last_items = clothes[2 :]\n",
    "\n",
    "print(last_items)"
   ]
  },
  {
   "cell_type": "markdown",
   "metadata": {
    "slideshow": {
     "slide_type": "subslide"
    }
   },
   "source": [
    "**Exercise:** Create a list with six items. Save as variables and print:\n",
    "\n",
    "1) the second item\n",
    "\n",
    "2) the last item\n",
    "\n",
    "3) the first two items\n",
    "\n",
    "4) the second, third and fourth items\n",
    "\n",
    "5) the last two items\n"
   ]
  },
  {
   "cell_type": "markdown",
   "metadata": {
    "slideshow": {
     "slide_type": "subslide"
    }
   },
   "source": [
    "Solution"
   ]
  },
  {
   "cell_type": "code",
   "execution_count": 33,
   "metadata": {},
   "outputs": [
    {
     "name": "stdout",
     "output_type": "stream",
     "text": [
      "cat\n",
      "bird\n",
      "['dog', 'cat']\n"
     ]
    }
   ],
   "source": [
    "animals = [\"dog\",\"cat\",\"rabbit\",\"hamster\",\"mouse\",\"bird\"]\n",
    "\n",
    "second_item = animals[1]\n",
    "print(second_item)\n",
    "\n",
    "last_item = animals[-1]\n",
    "print(last_item)\n",
    "\n",
    "first_two_items = animals[: 2]\n",
    "print(first_two_items)"
   ]
  },
  {
   "cell_type": "code",
   "execution_count": 34,
   "metadata": {
    "slideshow": {
     "slide_type": "subslide"
    }
   },
   "outputs": [
    {
     "name": "stdout",
     "output_type": "stream",
     "text": [
      "['cat', 'rabbit', 'hamster']\n",
      "['mouse', 'bird']\n",
      "['mouse', 'bird']\n"
     ]
    }
   ],
   "source": [
    "animals = [\"dog\",\"cat\",\"rabbit\",\"hamster\",\"mouse\",\"bird\"]\n",
    "\n",
    "middle_items = animals[1 : 4]\n",
    "print(middle_items)\n",
    "\n",
    "last_two_items = animals[4 :]\n",
    "print(last_two_items)\n",
    "\n",
    "# or:\n",
    "last_two_items = animals[-2 :]\n",
    "print(last_two_items)"
   ]
  },
  {
   "cell_type": "markdown",
   "metadata": {
    "slideshow": {
     "slide_type": "slide"
    }
   },
   "source": [
    "### List Functions"
   ]
  },
  {
   "cell_type": "markdown",
   "metadata": {
    "slideshow": {
     "slide_type": "subslide"
    }
   },
   "source": [
    "\n",
    "There are functions designed for lists\n",
    "- `len()`: the number of items in a list\n",
    "- `max()`: The biggest value in a list\n",
    "- `min()`: The smallest value in a list\n",
    "\n"
   ]
  },
  {
   "cell_type": "code",
   "execution_count": 15,
   "metadata": {},
   "outputs": [
    {
     "name": "stdout",
     "output_type": "stream",
     "text": [
      "4\n",
      "4.3\n",
      "0.5\n"
     ]
    }
   ],
   "source": [
    "costs = [1.2, 4.3, 2.0, 0.5]\n",
    "\n",
    "print(len(costs))\n",
    "print(max(costs))\n",
    "print(min(costs))"
   ]
  },
  {
   "cell_type": "markdown",
   "metadata": {
    "slideshow": {
     "slide_type": "subslide"
    }
   },
   "source": [
    "\n",
    "Functions for changing the order of a list\n",
    "- `sorted()`: Sorts the \n",
    "- `reversed()`: Reverses the order of a list\n",
    "\n"
   ]
  },
  {
   "cell_type": "code",
   "execution_count": 16,
   "metadata": {},
   "outputs": [
    {
     "name": "stdout",
     "output_type": "stream",
     "text": [
      "[0.5, 1.2, 2.0, 4.3]\n",
      "[0.5, 2.0, 4.3, 1.2]\n"
     ]
    }
   ],
   "source": [
    "costs = [1.2, 4.3, 2.0, 0.5]\n",
    "\n",
    "print(sorted(costs))\n",
    "print(list(reversed(costs)))"
   ]
  },
  {
   "cell_type": "markdown",
   "metadata": {
    "slideshow": {
     "slide_type": "subslide"
    }
   },
   "source": [
    "\n",
    "**Exercise 4.2:** Make a list of game scores. Using list functions write code to output information of the scores in the following format:\n",
    "\n",
    "```bash\n",
    "Number of scores: 10\n",
    "Highest score: 200\n",
    "Lowest score: 3\n",
    "```\n",
    "\n",
    "**Extension:** Output all of the scores in descending order\n",
    "\n"
   ]
  },
  {
   "cell_type": "code",
   "execution_count": 18,
   "metadata": {},
   "outputs": [
    {
     "name": "stdout",
     "output_type": "stream",
     "text": [
      "Number of scores: 10\n",
      "Highest score: 200\n",
      "Lowest score: 3\n"
     ]
    }
   ],
   "source": [
    "scores = [200, 3, 12, 25, 56, 72, 88, 3, 5, 16]\n",
    "print('Number of scores: {}'.format(len(scores)))\n",
    "print('Highest score: {}'.format(max(scores)))\n",
    "print('Lowest score: {}'.format(min(scores)))"
   ]
  },
  {
   "cell_type": "markdown",
   "metadata": {
    "slideshow": {
     "slide_type": "slide"
    }
   },
   "source": [
    "### append() and in"
   ]
  },
  {
   "cell_type": "markdown",
   "metadata": {
    "slideshow": {
     "slide_type": "subslide"
    }
   },
   "source": [
    "\n",
    "You can check if an value is in a list using the `in` operator. If the value is in the list it will result in `True` and `False` if it is not.\n",
    "\n"
   ]
  },
  {
   "cell_type": "code",
   "execution_count": 20,
   "metadata": {},
   "outputs": [
    {
     "name": "stdout",
     "output_type": "stream",
     "text": [
      "Which student are you looking for? Bob\n",
      "Bob is not in the class\n"
     ]
    }
   ],
   "source": [
    "student_name = input('Which student are you looking for? ')\n",
    "\n",
    "students = [\n",
    "    'Diedre', 'Hank', 'Helena', 'Salome',\n",
    "]\n",
    "\n",
    "if student_name in students:\n",
    "    print('{} is in the class'.format(student_name))\n",
    "else:\n",
    "    print('{} is not in the class'.format(student_name))"
   ]
  },
  {
   "cell_type": "markdown",
   "metadata": {
    "slideshow": {
     "slide_type": "subslide"
    }
   },
   "source": [
    "\n",
    "The `.append()` method is used to add items to a list\n",
    "\n"
   ]
  },
  {
   "cell_type": "code",
   "execution_count": 21,
   "metadata": {},
   "outputs": [
    {
     "name": "stdout",
     "output_type": "stream",
     "text": [
      "What is the name of the new student? Bob\n",
      "['Diedre', 'Hank', 'Helena', 'Salome', 'Bob']\n"
     ]
    }
   ],
   "source": [
    "students = [\n",
    "    'Diedre', 'Hank', 'Helena', 'Salome',\n",
    "]\n",
    "student_name = input('What is the name of the new student? ')\n",
    "\n",
    "students.append(student_name)\n",
    "\n",
    "print(students)"
   ]
  },
  {
   "cell_type": "markdown",
   "metadata": {
    "slideshow": {
     "slide_type": "subslide"
    }
   },
   "source": [
    "**Exercise 4.3:** Whenever I'm shopping and I buy some bread I always forget to buy butter. Create a list and if `'bread'` is in the list, add `'butter'` to the shopping list.\n",
    "\n",
    "Try running the program with and without bread in the list to check that your program works.\n",
    "\n",
    "Remember the `in` operator checks if an item is in a list and the `.append()` method adds an item to a list.\n",
    "\n",
    "**Extension:** Only add butter to the list if it is not already in the list"
   ]
  },
  {
   "cell_type": "markdown",
   "metadata": {
    "slideshow": {
     "slide_type": "subslide"
    }
   },
   "source": [
    "\n",
    "Solution\n",
    "\n"
   ]
  },
  {
   "cell_type": "code",
   "execution_count": 29,
   "metadata": {},
   "outputs": [
    {
     "name": "stdout",
     "output_type": "stream",
     "text": [
      "['bread', 'butter', 'cheese', 'pop tarts', 'carrots']\n"
     ]
    }
   ],
   "source": [
    "shopping_list = [\n",
    "    'bread',\n",
    "    'butter',\n",
    "    'cheese',\n",
    "    'pop tarts',\n",
    "    'carrots',\n",
    "]\n",
    "\n",
    "if 'bread' in shopping_list:\n",
    "    if 'butter' not in shopping_list: \n",
    "        shopping_list.append('butter')\n",
    "\n",
    "print(shopping_list)"
   ]
  },
  {
   "cell_type": "markdown",
   "metadata": {
    "slideshow": {
     "slide_type": "subslide"
    }
   },
   "source": [
    "\n",
    "To check if an item is not in a list \n",
    "\n"
   ]
  },
  {
   "cell_type": "code",
   "execution_count": 30,
   "metadata": {},
   "outputs": [
    {
     "name": "stdout",
     "output_type": "stream",
     "text": [
      "You have no milk in the fridge\n"
     ]
    }
   ],
   "source": [
    "fridge = [\n",
    "    'cheese',\n",
    "    'pizza',\n",
    "    'coke',\n",
    "]\n",
    "\n",
    "if 'milk' not in fridge:\n",
    "    print('You have no milk in the fridge')"
   ]
  },
  {
   "cell_type": "markdown",
   "metadata": {
    "slideshow": {
     "slide_type": "slide"
    }
   },
   "source": [
    "### For Loops ♥ Lists"
   ]
  },
  {
   "cell_type": "markdown",
   "metadata": {
    "slideshow": {
     "slide_type": "subslide"
    }
   },
   "source": [
    "Using lists and for loops together"
   ]
  },
  {
   "cell_type": "code",
   "execution_count": 31,
   "metadata": {},
   "outputs": [
    {
     "name": "stdout",
     "output_type": "stream",
     "text": [
      "Diedre\n",
      "Hank\n",
      "Helena\n",
      "Salome\n"
     ]
    }
   ],
   "source": [
    "student_names = ['Diedre', 'Hank', 'Helena', 'Salome']\n",
    "\n",
    "for student_name in student_names:\n",
    "    print(student_name)"
   ]
  },
  {
   "cell_type": "markdown",
   "metadata": {
    "slideshow": {
     "slide_type": "subslide"
    }
   },
   "source": [
    "\n",
    "Counting the total number of items in a list using a for loop\n",
    "\n"
   ]
  },
  {
   "cell_type": "code",
   "execution_count": 33,
   "metadata": {},
   "outputs": [
    {
     "name": "stdout",
     "output_type": "stream",
     "text": [
      "4\n",
      "4\n"
     ]
    }
   ],
   "source": [
    "student_names = ['Diedre', 'Hank', 'Helena', 'Salome']\n",
    "count = 0\n",
    "\n",
    "for student_name in student_names:\n",
    "    count = count + 1\n",
    "\n",
    "print(count)\n",
    "print(len(student_names))"
   ]
  },
  {
   "cell_type": "markdown",
   "metadata": {
    "slideshow": {
     "slide_type": "subslide"
    }
   },
   "source": [
    "\n",
    "**Exercise 4.4:** I want to work out how much money I've spent on lunch this week. I've created a list of what I spent each day.\n",
    "\n",
    "Write a program that uses a `for` loop to calculate the total cost \n",
    "\n"
   ]
  },
  {
   "cell_type": "code",
   "execution_count": null,
   "metadata": {},
   "outputs": [],
   "source": [
    "costs = [8.30, 7.12, 5.01, 1.00, 0.99, 5.92, 3.50]\n",
    "total_cost = 0"
   ]
  },
  {
   "cell_type": "markdown",
   "metadata": {},
   "source": [
    "**Extension:** Work out the average that I spend on lunch for the week"
   ]
  },
  {
   "cell_type": "markdown",
   "metadata": {
    "slideshow": {
     "slide_type": "subslide"
    }
   },
   "source": [
    "\n",
    "Solution\n",
    "\n"
   ]
  },
  {
   "cell_type": "code",
   "execution_count": 36,
   "metadata": {},
   "outputs": [
    {
     "name": "stdout",
     "output_type": "stream",
     "text": [
      "31.839999999999996\n",
      "4.548571428571428\n"
     ]
    }
   ],
   "source": [
    "costs = [8.30, 7.12, 5.01, 1.00, 0.99, 5.92, 3.50]\n",
    "total_cost = 0\n",
    "\n",
    "for cost in costs:\n",
    "    total_cost = total_cost + cost\n",
    "\n",
    "average_cost = total_cost / len(costs)\n",
    "print(total_cost)\n",
    "print(average_cost)"
   ]
  },
  {
   "cell_type": "markdown",
   "metadata": {
    "slideshow": {
     "slide_type": "subslide"
    }
   },
   "source": [
    "\n",
    "There is an easier way to do the last program without a for loop. The `sum()` function can be used to add up all of the values in a list:\n",
    "\n"
   ]
  },
  {
   "cell_type": "code",
   "execution_count": 1,
   "metadata": {},
   "outputs": [
    {
     "name": "stdout",
     "output_type": "stream",
     "text": [
      "31.839999999999996\n",
      "4.548571428571428\n"
     ]
    }
   ],
   "source": [
    "costs = [8.30, 7.12, 5.01, 1.00, 0.99, 5.92, 3.50]\n",
    "total = sum(costs)\n",
    "\n",
    "print(total)\n",
    "\n",
    "average_cost = total / len(costs)\n",
    "print(average_cost)"
   ]
  },
  {
   "cell_type": "markdown",
   "metadata": {
    "slideshow": {
     "slide_type": "slide"
    }
   },
   "source": [
    "### Dictionaries"
   ]
  },
  {
   "cell_type": "markdown",
   "metadata": {
    "slideshow": {
     "slide_type": "subslide"
    }
   },
   "source": [
    "\n",
    "**Dictionary:** Stores a collection of labelled items. Each item has a *key* and a *value*\n",
    "\n",
    "\n"
   ]
  },
  {
   "cell_type": "code",
   "execution_count": null,
   "metadata": {},
   "outputs": [],
   "source": [
    "person = {\n",
    "    'name': 'Jessica',\n",
    "    'age': 23,\n",
    "    'height': 172\n",
    "}"
   ]
  },
  {
   "cell_type": "markdown",
   "metadata": {
    "slideshow": {
     "slide_type": "subslide"
    }
   },
   "source": [
    "![A variable](images/dictionary.svg)"
   ]
  },
  {
   "cell_type": "markdown",
   "metadata": {
    "slideshow": {
     "slide_type": "subslide"
    }
   },
   "source": [
    "\n",
    "Values in a dictionary are accessed using their keys\n"
   ]
  },
  {
   "cell_type": "code",
   "execution_count": 39,
   "metadata": {},
   "outputs": [
    {
     "name": "stdout",
     "output_type": "stream",
     "text": [
      "23\n"
     ]
    }
   ],
   "source": [
    "person = {\n",
    "    'name': 'Jessica',\n",
    "    'age': 23,\n",
    "    'height': 172\n",
    "}\n",
    "\n",
    "print(person['age'])"
   ]
  },
  {
   "cell_type": "markdown",
   "metadata": {
    "slideshow": {
     "slide_type": "subslide"
    }
   },
   "source": [
    "\n",
    "**Exercise 4.5:** Print the values of `name`, `post_code` and `street_number` from the dictionary\n",
    "\n"
   ]
  },
  {
   "cell_type": "code",
   "execution_count": null,
   "metadata": {},
   "outputs": [],
   "source": [
    "place = {\n",
    "    'name': 'The Anchor',\n",
    "    'post_code': 'E14 6HY',\n",
    "    'street_number': '54',\n",
    "    'location': {\n",
    "        'longitude': 127,\n",
    "        'latitude': 63,\n",
    "    }\n",
    "}"
   ]
  },
  {
   "cell_type": "markdown",
   "metadata": {},
   "source": [
    "\n",
    "**Extension:** Print the values of `longitude` and `latitude` from the inner dictionary\n",
    "\n"
   ]
  },
  {
   "cell_type": "markdown",
   "metadata": {
    "slideshow": {
     "slide_type": "subslide"
    }
   },
   "source": [
    "\n",
    "Solution\n",
    "\n"
   ]
  },
  {
   "cell_type": "code",
   "execution_count": 44,
   "metadata": {},
   "outputs": [
    {
     "name": "stdout",
     "output_type": "stream",
     "text": [
      "The Anchor\n",
      "E14 6HY\n",
      "54\n",
      "127\n"
     ]
    }
   ],
   "source": [
    "place = {\n",
    "    'name': 'The Anchor',\n",
    "    'post_code': 'E14 6HY',\n",
    "    'street_number': '54',\n",
    "    'location': {\n",
    "        'longitude': 127,\n",
    "        'latitude': 63,\n",
    "    }\n",
    "}\n",
    "\n",
    "print(place['name'])\n",
    "print(place['post_code'])\n",
    "print(place['street_number'])\n",
    "print(place['location']['longitude'])"
   ]
  },
  {
   "cell_type": "markdown",
   "metadata": {
    "slideshow": {
     "slide_type": "subslide"
    }
   },
   "source": [
    "\n",
    "Extension:\n",
    "\n"
   ]
  },
  {
   "cell_type": "code",
   "execution_count": null,
   "metadata": {},
   "outputs": [],
   "source": [
    "print(place['location']['longitude'])\n",
    "print(place['location']['latitude'])\n",
    "\n",
    "\n",
    "location = place['location']\n",
    "\n",
    "print(location['longitude'])\n",
    "print(location['latitude'])"
   ]
  },
  {
   "cell_type": "markdown",
   "metadata": {
    "slideshow": {
     "slide_type": "slide"
    }
   },
   "source": [
    "### Dictionaries in Lists"
   ]
  },
  {
   "cell_type": "markdown",
   "metadata": {
    "slideshow": {
     "slide_type": "subslide"
    }
   },
   "source": [
    "\n",
    "Putting dictionaries inside a list is very common\n",
    "\n"
   ]
  },
  {
   "cell_type": "code",
   "execution_count": 45,
   "metadata": {},
   "outputs": [
    {
     "name": "stdout",
     "output_type": "stream",
     "text": [
      "Jessica\n",
      "23\n",
      "Trisha\n",
      "24\n"
     ]
    }
   ],
   "source": [
    "people = [\n",
    "    {'name': 'Jessica', 'age': 23},\n",
    "    {'name': 'Trisha', 'age': 24},\n",
    "]\n",
    "\n",
    "for person in people:\n",
    "    print(person['name'])\n",
    "    print(person['age'])"
   ]
  },
  {
   "cell_type": "markdown",
   "metadata": {
    "slideshow": {
     "slide_type": "subslide"
    }
   },
   "source": [
    "\n",
    "**Exercise 4.6:** Using a for loop, output the values `name`, `colour` and `price` of each dictionary in the list\n",
    "\n"
   ]
  },
  {
   "cell_type": "code",
   "execution_count": null,
   "metadata": {},
   "outputs": [],
   "source": [
    "fruits = [\n",
    "    {'name': 'apple', 'colour': 'red', 'price': 0.12},\n",
    "    {'name': 'banana', 'colour': 'yellow', 'price': 0.2},\n",
    "    {'name': 'pear', 'colour': 'green', 'price': 0.19},\n",
    "]"
   ]
  },
  {
   "cell_type": "markdown",
   "metadata": {},
   "source": [
    "**Extension:** Add more items to the list."
   ]
  },
  {
   "cell_type": "markdown",
   "metadata": {
    "slideshow": {
     "slide_type": "subslide"
    }
   },
   "source": [
    "\n",
    "Solution\n",
    "\n"
   ]
  },
  {
   "cell_type": "code",
   "execution_count": 47,
   "metadata": {},
   "outputs": [
    {
     "name": "stdout",
     "output_type": "stream",
     "text": [
      "apple\n",
      "red\n",
      "0.12\n",
      "banana\n",
      "yellow\n",
      "0.2\n",
      "pear\n",
      "green\n",
      "0.19\n",
      "[{'name': 'apple', 'colour': 'red', 'price': 0.12}, {'name': 'banana', 'colour': 'yellow', 'price': 0.2}, {'name': 'pear', 'colour': 'green', 'price': 0.19}, {'name': 'grapes', 'colour': 'green', 'price': 2.5}]\n"
     ]
    }
   ],
   "source": [
    "fruits = [\n",
    "    {'name': 'apple', 'colour': 'red', 'price': 0.12},\n",
    "    {'name': 'banana', 'colour': 'yellow', 'price': 0.2},\n",
    "    {'name': 'pear', 'colour': 'green', 'price': 0.19},\n",
    "]\n",
    "\n",
    "for fruit in fruits:\n",
    "    print(fruit['name'])\n",
    "    print(fruit['colour'])\n",
    "    print(fruit['price'])\n",
    "\n",
    "fruits.append({'name': 'grapes', 'colour': 'green', 'price': 2.50})\n",
    "\n",
    "print(fruits)"
   ]
  },
  {
   "cell_type": "markdown",
   "metadata": {
    "slideshow": {
     "slide_type": "slide"
    }
   },
   "source": [
    "### Random Choice"
   ]
  },
  {
   "cell_type": "markdown",
   "metadata": {
    "slideshow": {
     "slide_type": "subslide"
    }
   },
   "source": [
    "\n",
    "The `choice()` function in the random module returns a random item from a list\n",
    "\n"
   ]
  },
  {
   "cell_type": "code",
   "execution_count": 50,
   "metadata": {},
   "outputs": [
    {
     "name": "stdout",
     "output_type": "stream",
     "text": [
      "blue\n"
     ]
    }
   ],
   "source": [
    "import random\n",
    "\n",
    "colours = ['red', 'green', 'blue']\n",
    "chosen_colour = random.choice(colours)\n",
    "\n",
    "print(chosen_colour)"
   ]
  },
  {
   "cell_type": "markdown",
   "metadata": {
    "slideshow": {
     "slide_type": "subslide"
    }
   },
   "source": [
    "**Exercise 4.7:** Write a program to create a random name. You should have a list of random firstnames and a list of lastnames. Choose a random item from each and display the result.\n",
    "\n",
    "Extension: Using list of verbs and a list of nouns, create randomised sentences"
   ]
  },
  {
   "cell_type": "markdown",
   "metadata": {
    "slideshow": {
     "slide_type": "subslide"
    }
   },
   "source": [
    "Solution"
   ]
  },
  {
   "cell_type": "code",
   "execution_count": 63,
   "metadata": {},
   "outputs": [
    {
     "name": "stdout",
     "output_type": "stream",
     "text": [
      "Alice Johnson plays pasta\n"
     ]
    }
   ],
   "source": [
    "import random\n",
    "\n",
    "first_names = ['Alice', 'Bob', 'Dierdre', 'Edith']\n",
    "surnames = ['Johnson', 'Smith', 'Brown']\n",
    "\n",
    "verbs = [\"plays\", \"watches\", \"cooks\", \"codes\"]\n",
    "nouns = [\"football\", \"Python\", \"pasta\"]\n",
    "\n",
    "verb = random.choice(verbs)\n",
    "noun = random.choice(nouns)\n",
    "\n",
    "first_name = random.choice(first_names)\n",
    "surname = random.choice(surnames)\n",
    "\n",
    "print(\"{} {} {} {}\".format(first_name, surname, verb, noun))"
   ]
  },
  {
   "cell_type": "markdown",
   "metadata": {
    "slideshow": {
     "slide_type": "slide"
    }
   },
   "source": [
    "### Sorting a list"
   ]
  },
  {
   "cell_type": "markdown",
   "metadata": {
    "slideshow": {
     "slide_type": "subslide"
    }
   },
   "source": [
    "How to sort a list of items in alphabetical or numerical order (in ascending order)."
   ]
  },
  {
   "cell_type": "code",
   "execution_count": 58,
   "metadata": {},
   "outputs": [
    {
     "name": "stdout",
     "output_type": "stream",
     "text": [
      "['bird', 'cat', 'dog', 'hamster', 'mouse', 'rabbit']\n",
      "[1, 2, 3, 13, 23, 56, 92]\n"
     ]
    }
   ],
   "source": [
    "animals = ['dog','cat','rabbit','hamster','mouse',\"bird\"]\n",
    "\n",
    "sort_animals = sorted(animals)\n",
    "print(sort_animals)\n",
    "\n",
    "numbers = [13, 2, 56, 3, 92, 23, 1]\n",
    "\n",
    "sort_numbers = sorted(numbers)\n",
    "print(sort_numbers)"
   ]
  },
  {
   "cell_type": "markdown",
   "metadata": {},
   "source": [
    "How to sort a list of items in alphabetical or numerical order (in descending order)."
   ]
  },
  {
   "cell_type": "code",
   "execution_count": 57,
   "metadata": {},
   "outputs": [
    {
     "name": "stdout",
     "output_type": "stream",
     "text": [
      "['rabbit', 'mouse', 'hamster', 'dog', 'cat', 'bird']\n"
     ]
    }
   ],
   "source": [
    "animals = ['dog','cat','rabbit','hamster','mouse',\"bird\"]\n",
    "\n",
    "sort_animals = sorted(animals,reverse=True)\n",
    "print(sort_animals)"
   ]
  },
  {
   "cell_type": "markdown",
   "metadata": {
    "slideshow": {
     "slide_type": "slide"
    }
   },
   "source": [
    "### Recap"
   ]
  },
  {
   "cell_type": "markdown",
   "metadata": {
    "slideshow": {
     "slide_type": "subslide"
    }
   },
   "source": [
    "This session:\n",
    "1. Lists \n",
    "1. Dictionaries"
   ]
  },
  {
   "cell_type": "markdown",
   "metadata": {
    "slideshow": {
     "slide_type": "subslide"
    }
   },
   "source": [
    "**Question 1:** What shape brackets are used for creating a list and what shape brackets are used for creating a dictionary?"
   ]
  },
  {
   "cell_type": "markdown",
   "metadata": {
    "slideshow": {
     "slide_type": "subslide"
    }
   },
   "source": [
    "\n",
    "**Question 2:** What is the result of this program?\n",
    "\n"
   ]
  },
  {
   "cell_type": "code",
   "execution_count": 61,
   "metadata": {},
   "outputs": [
    {
     "ename": "IndexError",
     "evalue": "list index out of range",
     "output_type": "error",
     "traceback": [
      "\u001b[0;31m---------------------------------------------------------------------------\u001b[0m",
      "\u001b[0;31mIndexError\u001b[0m                                Traceback (most recent call last)",
      "\u001b[0;32m<ipython-input-61-8642a296f2ba>\u001b[0m in \u001b[0;36m<module>\u001b[0;34m\u001b[0m\n\u001b[1;32m      6\u001b[0m ]\n\u001b[1;32m      7\u001b[0m \u001b[0;34m\u001b[0m\u001b[0m\n\u001b[0;32m----> 8\u001b[0;31m \u001b[0mprint\u001b[0m\u001b[0;34m(\u001b[0m\u001b[0mcheeses\u001b[0m\u001b[0;34m[\u001b[0m\u001b[0;36m4\u001b[0m\u001b[0;34m]\u001b[0m\u001b[0;34m)\u001b[0m\u001b[0;34m\u001b[0m\u001b[0;34m\u001b[0m\u001b[0m\n\u001b[0m",
      "\u001b[0;31mIndexError\u001b[0m: list index out of range"
     ]
    }
   ],
   "source": [
    "cheeses = [\n",
    "    'brie',\n",
    "    'cheddar',\n",
    "    'wensleydale',\n",
    "    'edam',\n",
    "]\n",
    "\n",
    "print(cheeses[4])"
   ]
  },
  {
   "cell_type": "markdown",
   "metadata": {
    "slideshow": {
     "slide_type": "subslide"
    }
   },
   "source": [
    "\n",
    "**Question 3:** This program raises an error when I run it. What do I need to change to get it to run?\n",
    "\n"
   ]
  },
  {
   "cell_type": "code",
   "execution_count": 64,
   "metadata": {},
   "outputs": [
    {
     "name": "stdout",
     "output_type": "stream",
     "text": [
      "[{'leaf_colour': 'green', 'height': 2120}, {'leaf_colour': 'green', 'height': 2300}, {'leaf_colour': 'green', 'height': 1020}]\n"
     ]
    }
   ],
   "source": [
    "trees = [\n",
    "    {'leaf_colour': 'green', 'height': 2120},\n",
    "    {'leaf_colour': 'green', 'height': 2300},\n",
    "]\n",
    "\n",
    "new_tree = {\n",
    "    'leaf_colour': 'green',\n",
    "    'height': 1020\n",
    "}\n",
    "\n",
    "trees.append(new_tree)\n",
    "\n",
    "print(trees)"
   ]
  },
  {
   "cell_type": "markdown",
   "metadata": {
    "slideshow": {
     "slide_type": "slide"
    }
   },
   "source": [
    "**Homework:** Session 4 homework questions in your student guide"
   ]
  }
 ],
 "metadata": {
  "celltoolbar": "Slideshow",
  "kernelspec": {
   "display_name": "Python 3",
   "language": "python",
   "name": "python3"
  },
  "language_info": {
   "codemirror_mode": {
    "name": "ipython",
    "version": 3
   },
   "file_extension": ".py",
   "mimetype": "text/x-python",
   "name": "python",
   "nbconvert_exporter": "python",
   "pygments_lexer": "ipython3",
   "version": "3.7.3"
  },
  "livereveal": {
   "footer": "<img src=\"images/logo.png\" style=\"margin-left: 20px; margin-bottom: 20px;\"/>",
   "progress": true,
   "scroll": true,
   "start_slideshow_at": "selected"
  },
  "rise": {
   "enable_chalkboard": true
  }
 },
 "nbformat": 4,
 "nbformat_minor": 2
}
