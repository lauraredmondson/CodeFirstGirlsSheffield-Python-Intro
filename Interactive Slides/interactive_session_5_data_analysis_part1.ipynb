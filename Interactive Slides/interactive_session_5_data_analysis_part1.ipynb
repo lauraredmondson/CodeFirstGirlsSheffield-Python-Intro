{
 "cells": [
  {
   "cell_type": "markdown",
   "metadata": {
    "slideshow": {
     "slide_type": "slide"
    }
   },
   "source": [
    "![Code First: Girls](images/logo_large.png)\n",
    "\n",
    "#### Python Session 5"
   ]
  },
  {
   "cell_type": "markdown",
   "metadata": {
    "slideshow": {
     "slide_type": "slide"
    }
   },
   "source": [
    "## Install SciPy now!"
   ]
  },
  {
   "cell_type": "markdown",
   "metadata": {},
   "source": [
    "Use the PyCharm terminal\n",
    "\n",
    "``` python\n",
    "python -m pip install --user numpy scipy matplotlib ipython jupyter\n",
    "```"
   ]
  },
  {
   "cell_type": "markdown",
   "metadata": {},
   "source": [
    "Download files from google drive and save them together into your CFG folder:\n",
    "\n",
    "‘book_analysis_code.py’ and ‘book_dataset.csv’\n",
    "\n",
    "All work will be done in the ‘book_analysis_code.py’ file."
   ]
  },
  {
   "cell_type": "markdown",
   "metadata": {
    "slideshow": {
     "slide_type": "slide"
    }
   },
   "source": [
    "### Part 1 (today):\n",
    "1. String operations and using counter\n",
    "1. What is SciPy?\n",
    "1. How to use documentation and searching for answers\n",
    "1. Try out plotting with Matplotlib\n",
    "\n",
    "### Part 2 (optional session next week):\n",
    "1. Introduction to numpy & more Matplotlib\n"
   ]
  },
  {
   "cell_type": "markdown",
   "metadata": {
    "slideshow": {
     "slide_type": "slide"
    }
   },
   "source": [
    "### Dataset- Bookshop sales"
   ]
  },
  {
   "cell_type": "markdown",
   "metadata": {},
   "source": [
    "We will all work with the book dataset which can be downloaded from Google Drive."
   ]
  },
  {
   "cell_type": "markdown",
   "metadata": {},
   "source": [
    "<center><img src=\"images/data_pic/book_dataset.png\" width=\"1000\"></center>"
   ]
  },
  {
   "cell_type": "markdown",
   "metadata": {
    "slideshow": {
     "slide_type": "subslide"
    }
   },
   "source": [
    "### Loading in the dataset"
   ]
  },
  {
   "cell_type": "markdown",
   "metadata": {},
   "source": [
    "-The dataset will be read in as a list, where each element in the list is a dictionary.\n",
    "\n",
    "-Each dictionary contains the data of a single book.\n",
    "\n",
    "-This includes the name, genre, stock, price and sales for each month.\n",
    "\n",
    "The file book_analysis_code.py will load the .csv data in for you.\n",
    "\n",
    "Run this now."
   ]
  },
  {
   "cell_type": "code",
   "execution_count": 16,
   "metadata": {
    "slideshow": {
     "slide_type": "subslide"
    }
   },
   "outputs": [
    {
     "name": "stdout",
     "output_type": "stream",
     "text": [
      "OrderedDict([('Book', 'Blue Moon'), ('Genre', 'Crime'), ('Num_copies_stock', '3'), ('Price', '6.32'), ('Jan', '33'), ('Feb', '14'), ('March', '4'), ('April', '10'), ('May', '15'), ('Jun', '18')])\n"
     ]
    }
   ],
   "source": [
    "\"\"\"Workbook for data analysis session \"\"\"\n",
    "import csv\n",
    "\n",
    "# Open the dataset\n",
    "with open('book_dataset.csv', newline='') as csvfile:\n",
    "    reader = csv.DictReader(csvfile)\n",
    "\n",
    "    # read the headers of the csv\n",
    "    headers = reader.fieldnames\n",
    "\n",
    "    # create list to store the book data\n",
    "    book_data = []\n",
    "\n",
    "    # add book data dictionaries to list from .csv\n",
    "    for row in reader:\n",
    "        book_data.append(row)\n",
    "\n",
    "# display the book data list\n",
    "print(book_data[0]) "
   ]
  },
  {
   "cell_type": "code",
   "execution_count": 17,
   "metadata": {},
   "outputs": [
    {
     "name": "stdout",
     "output_type": "stream",
     "text": [
      "OrderedDict([('Book', 'Cat in the hat'), ('Genre', 'Children'), ('Num_copies_stock', '2'), ('Price', '3.45'), ('Jan', '14'), ('Feb', '15'), ('March', '20'), ('April', '10'), ('May', '19'), ('Jun', '1')])\n"
     ]
    }
   ],
   "source": [
    "print(book_data[1])"
   ]
  },
  {
   "cell_type": "markdown",
   "metadata": {
    "slideshow": {
     "slide_type": "slide"
    }
   },
   "source": [
    "### Questions about our dataset:"
   ]
  },
  {
   "cell_type": "markdown",
   "metadata": {},
   "source": [
    "- How many books of each genre are there?\n",
    "\n",
    "- What is the current value of all out stock?\n",
    "\n",
    "- How much revenue did we make each month?"
   ]
  },
  {
   "cell_type": "markdown",
   "metadata": {
    "slideshow": {
     "slide_type": "subslide"
    }
   },
   "source": [
    "#### How many books of each genre are there?"
   ]
  },
  {
   "cell_type": "markdown",
   "metadata": {},
   "source": [
    "Solution: Count number of occurrences of each ‘genre’ string for all the books.\n",
    "<center><img src=\"images/data_pic/book_dataset.png\" width=\"1000\"></center>"
   ]
  },
  {
   "cell_type": "markdown",
   "metadata": {
    "slideshow": {
     "slide_type": "subslide"
    }
   },
   "source": [
    "How do we do this?\n",
    "1. Extract a list of all the genres\n",
    "2. Count the number of occurances of each book genre"
   ]
  },
  {
   "cell_type": "markdown",
   "metadata": {
    "slideshow": {
     "slide_type": "subslide"
    }
   },
   "source": [
    "#### Example dataset"
   ]
  },
  {
   "cell_type": "markdown",
   "metadata": {},
   "source": [
    "<center><img src=\"images/data_pic/animal_data.png\" width=\"300\"></center>"
   ]
  },
  {
   "cell_type": "markdown",
   "metadata": {
    "slideshow": {
     "slide_type": "subslide"
    }
   },
   "source": [
    "#### Step 1 example: Extracting a list from a dictionary"
   ]
  },
  {
   "cell_type": "code",
   "execution_count": 3,
   "metadata": {},
   "outputs": [
    {
     "name": "stdout",
     "output_type": "stream",
     "text": [
      "[OrderedDict([('Name', 'Spot'), ('Type', 'Dog')]), OrderedDict([('Name', 'Oliver'), ('Type', 'Cat')]), OrderedDict([('Name', 'Peter'), ('Type', 'Rabbit')]), OrderedDict([('Name', 'Flopsy'), ('Type', 'Rabbit')]), OrderedDict([('Name', 'Mopsy'), ('Type', 'Rabbit')]), OrderedDict([('Name', 'Simba'), ('Type', 'Cat')])]\n"
     ]
    }
   ],
   "source": [
    "import csv\n",
    "\n",
    "with open('animal_data.csv', newline='') as csvfile:\n",
    "    reader = csv.DictReader(csvfile)\n",
    "    headers = reader.fieldnames\n",
    "    animal_data = []\n",
    "\n",
    "    for row in reader:\n",
    "        animal_data.append(row)\n",
    "\n",
    "print(animal_data)"
   ]
  },
  {
   "cell_type": "code",
   "execution_count": 4,
   "metadata": {
    "slideshow": {
     "slide_type": "subslide"
    }
   },
   "outputs": [
    {
     "name": "stdout",
     "output_type": "stream",
     "text": [
      "['Dog', 'Cat', 'Rabbit', 'Rabbit', 'Rabbit', 'Cat']\n"
     ]
    }
   ],
   "source": [
    "# Create list to hold all the animal types\n",
    "all_animals = []\n",
    "\n",
    "# iterate through dictionary and create a list of all animal types\n",
    "for animal in animal_data:\n",
    "    all_animals.append(animal['Type'])\n",
    "    \n",
    "print(all_animals)"
   ]
  },
  {
   "cell_type": "markdown",
   "metadata": {
    "slideshow": {
     "slide_type": "subslide"
    }
   },
   "source": [
    "#### Exercise 5.1: \n",
    "\n",
    "Extract a list of genres from the book data."
   ]
  },
  {
   "cell_type": "markdown",
   "metadata": {
    "slideshow": {
     "slide_type": "subslide"
    }
   },
   "source": [
    "#### Solution"
   ]
  },
  {
   "cell_type": "code",
   "execution_count": 18,
   "metadata": {},
   "outputs": [],
   "source": [
    "# Open the dataset- already in your file\n",
    "with open('book_dataset.csv', newline='') as csvfile:\n",
    "    reader = csv.DictReader(csvfile)\n",
    "    headers = reader.fieldnames\n",
    "    book_data = []\n",
    "    for row in reader:\n",
    "        book_data.append(row)"
   ]
  },
  {
   "cell_type": "code",
   "execution_count": 19,
   "metadata": {},
   "outputs": [
    {
     "name": "stdout",
     "output_type": "stream",
     "text": [
      "['Crime', 'Children', 'Teen', 'Crime', 'Horror', 'Horror', 'Fantasy', 'Children', 'Fantasy', 'Teen', 'Children', 'Action', 'Romance', 'Romance', 'Children', 'Teen', 'Children', 'Children', 'Crime', 'Children', 'Fantasy', 'Crime', 'Romance', 'Teen']\n"
     ]
    }
   ],
   "source": [
    "# Create an empty list called book_genres\n",
    "book_genres = []\n",
    "\n",
    "# Use a for-loop and append each genre to the list\n",
    "for book in book_data:\n",
    "    book_genres.append(book['Genre'])\n",
    "\n",
    "print(book_genres)"
   ]
  },
  {
   "cell_type": "markdown",
   "metadata": {
    "slideshow": {
     "slide_type": "subslide"
    }
   },
   "source": [
    "### Step 2: Counter"
   ]
  },
  {
   "cell_type": "code",
   "execution_count": 7,
   "metadata": {},
   "outputs": [
    {
     "name": "stdout",
     "output_type": "stream",
     "text": [
      "['Dog', 'Cat', 'Rabbit', 'Rabbit', 'Rabbit', 'Cat']\n"
     ]
    }
   ],
   "source": [
    "print(all_animals)"
   ]
  },
  {
   "cell_type": "markdown",
   "metadata": {},
   "source": [
    "What we want the output to be:\n",
    "\n",
    "- dog: 1\n",
    "- cat: 2\n",
    "- rabbit: 3"
   ]
  },
  {
   "cell_type": "markdown",
   "metadata": {
    "slideshow": {
     "slide_type": "subslide"
    }
   },
   "source": [
    "```Counter()``` is a function in the collections package.\n",
    "\n",
    "It can be used to count the number of times an item occurs in a list."
   ]
  },
  {
   "cell_type": "code",
   "execution_count": 8,
   "metadata": {
    "slideshow": {
     "slide_type": "-"
    }
   },
   "outputs": [
    {
     "name": "stdout",
     "output_type": "stream",
     "text": [
      "Counter({'Rabbit': 3, 'Cat': 2, 'Dog': 1})\n",
      "('Dog', 'Cat', 'Rabbit')\n",
      "(1, 2, 3)\n"
     ]
    }
   ],
   "source": [
    "import collections # remember to import the collections package\n",
    "\n",
    "count_animals = collections.Counter(all_animals) # use the Counter\n",
    "\n",
    "print(count_animals)\n",
    "\n",
    "animal_types, type_counts = zip(*count_animals.items()) # convert into animal types and a count of each type.\n",
    "\n",
    "print(animal_types)\n",
    "print(type_counts)"
   ]
  },
  {
   "cell_type": "markdown",
   "metadata": {
    "slideshow": {
     "slide_type": "subslide"
    }
   },
   "source": [
    "#### Exercise 5.2: \n",
    "\n",
    "Count the number of books in each genre using the ```Counter()``` method"
   ]
  },
  {
   "cell_type": "markdown",
   "metadata": {
    "slideshow": {
     "slide_type": "subslide"
    }
   },
   "source": [
    "#### Exercise Solution"
   ]
  },
  {
   "cell_type": "code",
   "execution_count": 9,
   "metadata": {},
   "outputs": [
    {
     "name": "stdout",
     "output_type": "stream",
     "text": [
      "('Crime', 'Children', 'Teen', 'Horror', 'Fantasy', 'Action', 'Romance')\n",
      "(4, 7, 4, 2, 3, 1, 3)\n"
     ]
    }
   ],
   "source": [
    "# Use the counter method to calculate the number of books in each genre\n",
    "import collections\n",
    "\n",
    "genre_collection = collections.Counter(book_genres)\n",
    "\n",
    "genres, genre_count = zip(*genre_collection.items())\n",
    "\n",
    "print(genres)\n",
    "\n",
    "print(genre_count)"
   ]
  },
  {
   "cell_type": "markdown",
   "metadata": {
    "slideshow": {
     "slide_type": "subslide"
    }
   },
   "source": [
    "#### Visualising your result\n",
    "\n",
    "How can we make a plot of the counts of genres? \n",
    "\n",
    "Use Matplotlib in the SciPy package!"
   ]
  },
  {
   "cell_type": "markdown",
   "metadata": {},
   "source": [
    "<center><img src=\"images/data_pic/animal_count.png\" width=\"500\"></center>"
   ]
  },
  {
   "cell_type": "markdown",
   "metadata": {
    "slideshow": {
     "slide_type": "slide"
    }
   },
   "source": [
    "### What is SciPy?"
   ]
  },
  {
   "cell_type": "markdown",
   "metadata": {},
   "source": [
    "<center><img src=\"images/data_pic/scipy.png\" width=\"800\"></center>"
   ]
  },
  {
   "cell_type": "markdown",
   "metadata": {
    "slideshow": {
     "slide_type": "subslide"
    }
   },
   "source": [
    "#### Introduction to Matplotlib"
   ]
  },
  {
   "cell_type": "markdown",
   "metadata": {},
   "source": [
    "Matplotlib is a graphing package which is able to produce different types of plots. Including:"
   ]
  },
  {
   "cell_type": "markdown",
   "metadata": {},
   "source": [
    "<center><img src=\"images/data_pic/plot_types.png\" width=\"1000\"></center>"
   ]
  },
  {
   "cell_type": "markdown",
   "metadata": {
    "slideshow": {
     "slide_type": "subslide"
    }
   },
   "source": [
    "#### How to import matplotlib"
   ]
  },
  {
   "cell_type": "markdown",
   "metadata": {
    "slideshow": {
     "slide_type": "-"
    }
   },
   "source": [
    "<center><img src=\"images/data_pic/matplotlib_import.png\" width=\"1000\"></center>"
   ]
  },
  {
   "cell_type": "markdown",
   "metadata": {
    "slideshow": {
     "slide_type": "subslide"
    }
   },
   "source": [
    "#### Creating a bar chart - Plotting the number of animal types"
   ]
  },
  {
   "cell_type": "code",
   "execution_count": 12,
   "metadata": {},
   "outputs": [
    {
     "data": {
      "image/png": "[encoded data removed]",
      "text/plain": [
       "<Figure size 432x288 with 1 Axes>"
      ]
     },
     "metadata": {
      "needs_background": "light"
     },
     "output_type": "display_data"
    }
   ],
   "source": [
    "import matplotlib.pyplot as plt # import matplotlib\n",
    "\n",
    "plt.figure() # create an empty figure\n",
    "\n",
    "plt.bar(animal_types, type_counts) # create the bar chart\n",
    "\n",
    "plt.show() # Show the bar chart"
   ]
  },
  {
   "cell_type": "markdown",
   "metadata": {
    "slideshow": {
     "slide_type": "subslide"
    }
   },
   "source": [
    "<center><img src=\"images/data_pic/labels_animal_bar.png\" width=\"800\"></center>"
   ]
  },
  {
   "cell_type": "markdown",
   "metadata": {
    "slideshow": {
     "slide_type": "subslide"
    }
   },
   "source": [
    "#### Adding titles and axis labels"
   ]
  },
  {
   "cell_type": "code",
   "execution_count": 13,
   "metadata": {},
   "outputs": [
    {
     "data": {
      "image/png": "[encoded data removed]",
      "text/plain": [
       "<Figure size 432x288 with 1 Axes>"
      ]
     },
     "metadata": {
      "needs_background": "light"
     },
     "output_type": "display_data"
    }
   ],
   "source": [
    "plt.figure()\n",
    "plt.bar(animal_types, type_counts)\n",
    "\n",
    "plt.ylabel('Number of animals') # Y axis label\n",
    "\n",
    "plt.xlabel('Animal type') # X axis label\n",
    "\n",
    "plt.title('Number of animals of each type') # plot title\n",
    "\n",
    "plt.savefig('animal_count.png') # Save the figure as a .png file\n",
    "\n",
    "plt.show()"
   ]
  },
  {
   "cell_type": "markdown",
   "metadata": {
    "slideshow": {
     "slide_type": "subslide"
    }
   },
   "source": [
    "<center><img src=\"images/data_pic/final_animal_plot.png\" width=\"700\"></center>"
   ]
  },
  {
   "cell_type": "markdown",
   "metadata": {
    "slideshow": {
     "slide_type": "subslide"
    }
   },
   "source": [
    "**Exercise 5.3:** Create a bar chart of the number of books for each genre. Add suitable axis labels and a title."
   ]
  },
  {
   "cell_type": "markdown",
   "metadata": {
    "slideshow": {
     "slide_type": "subslide"
    }
   },
   "source": [
    "Exercise solution"
   ]
  },
  {
   "cell_type": "code",
   "execution_count": null,
   "metadata": {},
   "outputs": [],
   "source": [
    "plt.figure()\n",
    "plt.bar(genres,genre_count)\n",
    "plt.ylabel('Number of books')\n",
    "plt.xlabel('Genre')\n",
    "plt.title('Number of books of each genre')\n",
    "plt.savefig('Book_genre_count.png')\n",
    "plt.show()"
   ]
  },
  {
   "cell_type": "markdown",
   "metadata": {
    "slideshow": {
     "slide_type": "subslide"
    }
   },
   "source": [
    "<center><img src=\"images/data_pic/book_genre_count.png\" width=\"700\"></center>"
   ]
  },
  {
   "cell_type": "markdown",
   "metadata": {
    "slideshow": {
     "slide_type": "slide"
    }
   },
   "source": [
    "## Other types of plots"
   ]
  },
  {
   "cell_type": "markdown",
   "metadata": {
    "slideshow": {
     "slide_type": "subslide"
    }
   },
   "source": [
    "#### Line plots"
   ]
  },
  {
   "cell_type": "markdown",
   "metadata": {},
   "source": [
    "What is the weight of our pet rabbit over time?"
   ]
  },
  {
   "cell_type": "code",
   "execution_count": 14,
   "metadata": {},
   "outputs": [
    {
     "data": {
      "image/png": "[encoded data removed]",
      "text/plain": [
       "<Figure size 432x288 with 1 Axes>"
      ]
     },
     "metadata": {
      "needs_background": "light"
     },
     "output_type": "display_data"
    }
   ],
   "source": [
    "# Create a line plot with weight for each month\n",
    "weight = [0.8, 1, 1.3, 1.5, 1.4, 1.5]\n",
    "months = ['Jan', 'Feb', 'March', 'April', 'May', 'June']\n",
    "\n",
    "plt.figure()\n",
    "plt.plot(months, weight) # use plt.plot for a line plot\n",
    "plt.xlabel('Month')\n",
    "plt.ylabel('Weight (KG)')\n",
    "plt.title('Monthly weight of Peter rabbit')\n",
    "plt.savefig('animal_weight.png')\n",
    "plt.show()"
   ]
  },
  {
   "cell_type": "markdown",
   "metadata": {
    "slideshow": {
     "slide_type": "subslide"
    }
   },
   "source": [
    "<center><img src=\"images/data_pic/animal_weight.png\" width=\"700\"></center>"
   ]
  },
  {
   "cell_type": "markdown",
   "metadata": {
    "slideshow": {
     "slide_type": "subslide"
    }
   },
   "source": [
    "#### Scatter plots"
   ]
  },
  {
   "cell_type": "markdown",
   "metadata": {},
   "source": [
    "Is there any relationship between the weight of a rabbit and how much it eats?"
   ]
  },
  {
   "cell_type": "code",
   "execution_count": 15,
   "metadata": {},
   "outputs": [
    {
     "data": {
      "image/png": "[encoded data removed]",
      "text/plain": [
       "<Figure size 432x288 with 1 Axes>"
      ]
     },
     "metadata": {
      "needs_background": "light"
     },
     "output_type": "display_data"
    }
   ],
   "source": [
    "# Create scatter plot of amount of food each rabbit eats and their weight\n",
    "weight = [0.8, 1, 1.3, 1.2, 1.5, 1.4, 1.5, 0.7, 1.1, 1.3, 1.2, 1.5, 1.4, 1.5]\n",
    "feed = [23, 25, 30, 33, 41, 31,27, 22,34,26, 46, 46,41, 50]\n",
    "\n",
    "plt.figure()\n",
    "plt.scatter(feed, weight) # use plt.scatter for a scatter plot\n",
    "plt.xlabel('Food eaten in one day (grams)')\n",
    "plt.ylabel('Weight (KG)')\n",
    "plt.title('Weight of rabbit by daily feed amount')\n",
    "plt.savefig('animal_weight_feed.png')\n",
    "plt.show()"
   ]
  },
  {
   "cell_type": "markdown",
   "metadata": {
    "slideshow": {
     "slide_type": "subslide"
    }
   },
   "source": [
    "<center><img src=\"images/data_pic/animal_weight_feed.png\" width=\"700\"></center>"
   ]
  },
  {
   "cell_type": "markdown",
   "metadata": {
    "slideshow": {
     "slide_type": "slide"
    }
   },
   "source": [
    "### Next time: Using Numpy for data analysis"
   ]
  }
 ],
 "metadata": {
  "celltoolbar": "Slideshow",
  "kernelspec": {
   "display_name": "Python 3",
   "language": "python",
   "name": "python3"
  },
  "language_info": {
   "codemirror_mode": {
    "name": "ipython",
    "version": 3
   },
   "file_extension": ".py",
   "mimetype": "text/x-python",
   "name": "python",
   "nbconvert_exporter": "python",
   "pygments_lexer": "ipython3",
   "version": "3.7.3"
  },
  "livereveal": {
   "footer": "<img src=\"images/logo.png\" style=\"margin-left: 20px; margin-bottom: 20px;\"/>",
   "progress": true,
   "scroll": true,
   "start_slideshow_at": "selected"
  },
  "rise": {
   "enable_chalkboard": true
  }
 },
 "nbformat": 4,
 "nbformat_minor": 2
}
