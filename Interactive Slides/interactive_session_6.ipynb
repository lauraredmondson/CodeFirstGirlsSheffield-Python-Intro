{
 "cells": [
  {
   "cell_type": "markdown",
   "metadata": {
    "slideshow": {
     "slide_type": "slide"
    }
   },
   "source": [
    "![Code First: Girls](images/logo_large.png)\n",
    "\n",
    "#### Python Session 6"
   ]
  },
  {
   "cell_type": "markdown",
   "metadata": {
    "slideshow": {
     "slide_type": "subslide"
    }
   },
   "source": [
    "This session\n",
    "1. Overview of projects\n",
    "1. Form teams\n",
    "1. Introduction to GitHub and sharing code\n",
    "1. Guide to API keys\n",
    "1. Planning your project\n",
    "1. Project work"
   ]
  },
  {
   "cell_type": "markdown",
   "metadata": {
    "slideshow": {
     "slide_type": "slide"
    }
   },
   "source": [
    "### Project Briefs"
   ]
  },
  {
   "cell_type": "markdown",
   "metadata": {
    "slideshow": {
     "slide_type": "subslide"
    }
   },
   "source": [
    "Until the end of the course you will be working on team projects\n",
    "\n",
    "In the second half of the final session each team will present their project"
   ]
  },
  {
   "cell_type": "markdown",
   "metadata": {
    "slideshow": {
     "slide_type": "subslide"
    }
   },
   "source": [
    "In your student handbook there are the different project briefs\n",
    "\n",
    "Each brief includes:\n",
    "- Overview of the project\n",
    "- Required tasks or ideas for data analysis\n",
    "- Example project code"
   ]
  },
  {
   "cell_type": "markdown",
   "metadata": {
    "slideshow": {
     "slide_type": "subslide"
    }
   },
   "source": [
    "When you start the project, do the required tasks first. After completing the required tasks, add your own ideas to the project"
   ]
  },
  {
   "cell_type": "markdown",
   "metadata": {
    "slideshow": {
     "slide_type": "slide"
    }
   },
   "source": [
    "Two types of project are available:\n",
    "\n",
    "- API Based projects\n",
    "\n",
    "- Data analysis projects\n"
   ]
  },
  {
   "cell_type": "markdown",
   "metadata": {
    "slideshow": {
     "slide_type": "subslide"
    }
   },
   "source": [
    "API Based projects:\n",
    "\n",
    "- Top Trumps Game\n",
    "\n",
    "- Cryptocurrency Converter\n",
    "\n",
    "- Recipe Generator\n"
   ]
  },
  {
   "cell_type": "markdown",
   "metadata": {
    "slideshow": {
     "slide_type": "subslide"
    }
   },
   "source": [
    "Data analysis projects:\n",
    "\n",
    "- IMDb movie data\n",
    "\n",
    "- Crime data: London 2019 or San Francisco 2018\n",
    "\n",
    "- University Rankings data\n",
    "\n",
    "- World Food Production 2018 data\n",
    "\n",
    "- World Happiness data 2015 & 2016"
   ]
  },
  {
   "cell_type": "markdown",
   "metadata": {
    "slideshow": {
     "slide_type": "slide"
    }
   },
   "source": [
    "### Teams"
   ]
  },
  {
   "cell_type": "markdown",
   "metadata": {
    "slideshow": {
     "slide_type": "subslide"
    }
   },
   "source": [
    "**Exercise 6.1:** Get into teams of 2-3 people. The instructors will create a Slack channel for each group and add you to it."
   ]
  },
  {
   "cell_type": "markdown",
   "metadata": {
    "slideshow": {
     "slide_type": "slide"
    }
   },
   "source": [
    "## Introduction to GitHub and sharing code"
   ]
  },
  {
   "cell_type": "markdown",
   "metadata": {
    "slideshow": {
     "slide_type": "slide"
    }
   },
   "source": [
    "## API key setup in PyCharm"
   ]
  },
  {
   "cell_type": "markdown",
   "metadata": {},
   "source": [
    "##### What is an API key?"
   ]
  },
  {
   "cell_type": "markdown",
   "metadata": {},
   "source": [
    "API keys and IDs are used to monitor and control how the API is being used by a specific user.\n",
    "\n",
    "If you are doing a Project which involves an API, you may need to create an account and get an API key, and sometimes an API ID too. You will need this to access the API data."
   ]
  },
  {
   "cell_type": "markdown",
   "metadata": {
    "slideshow": {
     "slide_type": "subslide"
    }
   },
   "source": [
    "##### Keeping your Keys private"
   ]
  },
  {
   "cell_type": "markdown",
   "metadata": {},
   "source": [
    "Your should treat API keys and IDs like your other passwords- they should always be kept private.\n",
    "\n",
    "Some APIs charge for their use- you may pay monthly for a certain number of requests, or pay per request. If people have your keys, they can make requests to the server using your credentials.  \n",
    "\n",
    "In order to keep the keys private, we will never directly write them in our Python code, but will store them as 'Environment variables'. \n",
    "\n",
    "Each person in the group should generate their own API keys. Never send your API keys to GitHub, as they may be publicly accessible."
   ]
  },
  {
   "cell_type": "markdown",
   "metadata": {
    "slideshow": {
     "slide_type": "subslide"
    }
   },
   "source": [
    "#### Environment Variables"
   ]
  },
  {
   "cell_type": "markdown",
   "metadata": {},
   "source": [
    "Environment variables are variables that exist outside of our code files. We can access them to use in our programs.\n",
    "\n",
    "They exist in 'key' and 'value' pairs. Each value has an associated key which can be called from our python code to access the value data.\n",
    "\n",
    "For example our key name might be ```recipe_api_key``` and the associated value will be our API key: eg. ```34hddm44ksaFtG``` "
   ]
  },
  {
   "cell_type": "markdown",
   "metadata": {
    "slideshow": {
     "slide_type": "subslide"
    }
   },
   "source": [
    "#### Adding API keys to PyCharm"
   ]
  },
  {
   "cell_type": "markdown",
   "metadata": {
    "slideshow": {
     "slide_type": "-"
    }
   },
   "source": [
    "##### Step 1: Navigate to and open 'Edit Configurations' for your file"
   ]
  },
  {
   "cell_type": "markdown",
   "metadata": {},
   "source": [
    "<center><img src=\"images/api_keys/api_keys1.png\" width=\"800\"></center>"
   ]
  },
  {
   "cell_type": "markdown",
   "metadata": {
    "slideshow": {
     "slide_type": "subslide"
    }
   },
   "source": [
    "##### Step 2: Open environment variables"
   ]
  },
  {
   "cell_type": "markdown",
   "metadata": {},
   "source": [
    "<center><img src=\"images/api_keys/api_keys2.png\" width=\"800\"></center>"
   ]
  },
  {
   "cell_type": "markdown",
   "metadata": {
    "slideshow": {
     "slide_type": "subslide"
    }
   },
   "source": [
    "##### Step 3: Select 'Add' to insert a new Environment Variable"
   ]
  },
  {
   "cell_type": "markdown",
   "metadata": {},
   "source": [
    "<center><img src=\"images/api_keys/api_keys3.png\" width=\"800\"></center>"
   ]
  },
  {
   "cell_type": "markdown",
   "metadata": {
    "slideshow": {
     "slide_type": "subslide"
    }
   },
   "source": [
    "##### Step 4: Add your API Keys and API ID (if required)"
   ]
  },
  {
   "cell_type": "markdown",
   "metadata": {},
   "source": [
    "<center><img src=\"images/api_keys/api_keys4.png\" width=\"800\"></center>"
   ]
  },
  {
   "cell_type": "markdown",
   "metadata": {
    "slideshow": {
     "slide_type": "subslide"
    }
   },
   "source": [
    "##### Step 5: Restart PyCharm and import the API keys"
   ]
  },
  {
   "cell_type": "markdown",
   "metadata": {},
   "source": [
    "We can import environment variables as follows:"
   ]
  },
  {
   "cell_type": "markdown",
   "metadata": {},
   "source": [
    "```python\n",
    "import os\n",
    "\n",
    "api_id = os.environ.get(\"edamam_api_id\")\n",
    "api_key = os.environ.get(\"edamam_api_key\")\n",
    "```"
   ]
  },
  {
   "cell_type": "markdown",
   "metadata": {},
   "source": [
    "We now have our API keys and ID stored as variables."
   ]
  },
  {
   "cell_type": "markdown",
   "metadata": {
    "slideshow": {
     "slide_type": "slide"
    }
   },
   "source": [
    "## Planning Requirements"
   ]
  },
  {
   "cell_type": "markdown",
   "metadata": {
    "slideshow": {
     "slide_type": "subslide"
    }
   },
   "source": [
    "After completing the project's required tasks, you can customise it with your own ideas"
   ]
  },
  {
   "cell_type": "markdown",
   "metadata": {
    "slideshow": {
     "slide_type": "subslide"
    }
   },
   "source": [
    "MoSCoW is a technique for prioritising requirements\n",
    "\n",
    "Requirements are put into four categories:\n",
    "\n",
    "- Must\n",
    "- Should\n",
    "- Could\n",
    "- Won't"
   ]
  },
  {
   "cell_type": "markdown",
   "metadata": {
    "slideshow": {
     "slide_type": "subslide"
    }
   },
   "source": [
    "A example list of requirements for a book search:\n",
    "- Users should be able to enter the book's name to search for it\n",
    "- The price of the book should be shown on the search results\n",
    "- The user should be able to order the book from Amazon\n",
    "- The author of the book should be shown in the search results\n",
    "- The book's front cover should be shown in the search results"
   ]
  },
  {
   "cell_type": "markdown",
   "metadata": {
    "slideshow": {
     "slide_type": "subslide"
    }
   },
   "source": [
    "Prioritised list of requirements:\n",
    "\n",
    "Must\n",
    "- Users should be able to enter the book's name to search for it\n",
    "- The author of the book should be shown in the search results\n",
    "\n",
    "Should\n",
    "- The price of the book should be shown on the search results"
   ]
  },
  {
   "cell_type": "markdown",
   "metadata": {
    "slideshow": {
     "slide_type": "subslide"
    }
   },
   "source": [
    "Could\n",
    "- The book's front cover should be shown in the search results\n",
    "\n",
    "Won't\n",
    "- The user should be able to order the book from Amazon"
   ]
  },
  {
   "cell_type": "markdown",
   "metadata": {
    "slideshow": {
     "slide_type": "subslide"
    }
   },
   "source": [
    "**Exercise 6.2:** Come up with ideas for your project.\n",
    "\n",
    "1. Individually, come up with as many ideas for the project as possible\n",
    "2. Share one of your ideas with the team, going around each team member until all ideas have been covered\n",
    "3. As a team, prioritise the ideas into \"Must, Should, Could, Won't\""
   ]
  },
  {
   "cell_type": "markdown",
   "metadata": {
    "slideshow": {
     "slide_type": "slide"
    }
   },
   "source": [
    "### Project Work"
   ]
  },
  {
   "cell_type": "markdown",
   "metadata": {
    "slideshow": {
     "slide_type": "subslide"
    }
   },
   "source": [
    "Work on your project with your team\n",
    "\n",
    "\n",
    "Tips:\n",
    "- Write your code as functions\n",
    "- Share your code with other team members frequently\n",
    "- Try to break down big tasks into smaller chunks"
   ]
  },
  {
   "cell_type": "markdown",
   "metadata": {
    "slideshow": {
     "slide_type": "slide"
    }
   },
   "source": [
    "**Session Recap**"
   ]
  },
  {
   "cell_type": "markdown",
   "metadata": {
    "slideshow": {
     "slide_type": "subslide"
    }
   },
   "source": [
    "**Question 1:** Name the four categories for MoSCoW"
   ]
  },
  {
   "cell_type": "markdown",
   "metadata": {
    "slideshow": {
     "slide_type": "slide"
    }
   },
   "source": [
    "**Homework:** Continue working on your projects"
   ]
  },
  {
   "cell_type": "markdown",
   "metadata": {},
   "source": [
    "Next week: Time to work on your projects with help from instructors"
   ]
  }
 ],
 "metadata": {
  "celltoolbar": "Slideshow",
  "kernelspec": {
   "display_name": "Python 3",
   "language": "python",
   "name": "python3"
  },
  "language_info": {
   "codemirror_mode": {
    "name": "ipython",
    "version": 3
   },
   "file_extension": ".py",
   "mimetype": "text/x-python",
   "name": "python",
   "nbconvert_exporter": "python",
   "pygments_lexer": "ipython3",
   "version": "3.7.6"
  },
  "livereveal": {
   "footer": "<img src=\"images/logo.png\" style=\"margin-left: 20px; margin-bottom: 20px;\"/>",
   "progress": true,
   "scroll": true,
   "start_slideshow_at": "selected"
  },
  "rise": {
   "enable_chalkboard": true
  },
  "varInspector": {
   "cols": {
    "lenName": 16,
    "lenType": 16,
    "lenVar": 40
   },
   "kernels_config": {
    "python": {
     "delete_cmd_postfix": "",
     "delete_cmd_prefix": "del ",
     "library": "var_list.py",
     "varRefreshCmd": "print(var_dic_list())"
    },
    "r": {
     "delete_cmd_postfix": ") ",
     "delete_cmd_prefix": "rm(",
     "library": "var_list.r",
     "varRefreshCmd": "cat(var_dic_list()) "
    }
   },
   "types_to_exclude": [
    "module",
    "function",
    "builtin_function_or_method",
    "instance",
    "_Feature"
   ],
   "window_display": false
  }
 },
 "nbformat": 4,
 "nbformat_minor": 2
}
